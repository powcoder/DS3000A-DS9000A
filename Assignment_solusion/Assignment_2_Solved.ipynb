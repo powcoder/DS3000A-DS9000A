{
 "cells": [
  {
   "cell_type": "markdown",
   "metadata": {
    "id": "aDzl4c4ce95Z"
   },
   "source": [
    "## Assignment 02\n",
    "For this assignment, we will analyze real estate evaluation dataset from\n",
    "*Yeh, I. C., & Hsu, T. K. (2018). Building real estate valuation models with comparative approach through case-based reasoning. Applied Soft Computing, 65, 260-271.*"
   ]
  },
  {
   "cell_type": "code",
   "execution_count": 91,
   "metadata": {
    "executionInfo": {
     "elapsed": 140,
     "status": "ok",
     "timestamp": 1665353568670,
     "user": {
      "displayName": "Alireza Fazeli",
      "userId": "13019604121988176443"
     },
     "user_tz": 240
    },
    "id": "F5IycnnEe95m"
   },
   "outputs": [],
   "source": [
    "import pandas as pd\n",
    "import numpy as np\n",
    "import seaborn as sns\n",
    "import matplotlib.pyplot as plt\n",
    "from sklearn.model_selection import train_test_split\n",
    "from sklearn.linear_model import LinearRegression\n",
    "from sklearn.linear_model import SGDRegressor\n",
    "from sklearn.metrics import r2_score\n",
    "from sklearn.linear_model import Ridge\n",
    "from sklearn.pipeline import make_pipeline\n",
    "from sklearn.preprocessing import StandardScaler\n",
    "from sklearn.metrics import mean_squared_error\n",
    "seed=0 # use this random seed throughout your code"
   ]
  },
  {
   "cell_type": "markdown",
   "metadata": {
    "id": "VLg-A6Uce95w"
   },
   "source": [
    "### Question 1: Load and visualize the data (15 Points) \n",
    "Read the data file `Real_estate_valuation_dataset.csv`:\n"
   ]
  },
  {
   "cell_type": "code",
   "execution_count": 92,
   "metadata": {
    "colab": {
     "base_uri": "https://localhost:8080/",
     "height": 206
    },
    "executionInfo": {
     "elapsed": 6,
     "status": "ok",
     "timestamp": 1665353570333,
     "user": {
      "displayName": "Alireza Fazeli",
      "userId": "13019604121988176443"
     },
     "user_tz": 240
    },
    "id": "HboVoBx8e95z",
    "outputId": "73adab66-316b-4b20-af8a-20baef4f67c1"
   },
   "outputs": [
    {
     "data": {
      "text/html": [
       "\n",
       "  <div id=\"df-05c9bc21-a733-44e0-a777-92bb7e8601c9\">\n",
       "    <div class=\"colab-df-container\">\n",
       "      <div>\n",
       "<style scoped>\n",
       "    .dataframe tbody tr th:only-of-type {\n",
       "        vertical-align: middle;\n",
       "    }\n",
       "\n",
       "    .dataframe tbody tr th {\n",
       "        vertical-align: top;\n",
       "    }\n",
       "\n",
       "    .dataframe thead th {\n",
       "        text-align: right;\n",
       "    }\n",
       "</style>\n",
       "<table border=\"1\" class=\"dataframe\">\n",
       "  <thead>\n",
       "    <tr style=\"text-align: right;\">\n",
       "      <th></th>\n",
       "      <th>transaction_date</th>\n",
       "      <th>house_age</th>\n",
       "      <th>distance_to_the_nearest_MRT_station</th>\n",
       "      <th>number_of_convenience_stores</th>\n",
       "      <th>latitude</th>\n",
       "      <th>longitude</th>\n",
       "      <th>house_price_of_unit_area</th>\n",
       "    </tr>\n",
       "  </thead>\n",
       "  <tbody>\n",
       "    <tr>\n",
       "      <th>0</th>\n",
       "      <td>2012.917</td>\n",
       "      <td>32.0</td>\n",
       "      <td>84.87882</td>\n",
       "      <td>10</td>\n",
       "      <td>24.98298</td>\n",
       "      <td>121.54024</td>\n",
       "      <td>37.9</td>\n",
       "    </tr>\n",
       "    <tr>\n",
       "      <th>1</th>\n",
       "      <td>2012.917</td>\n",
       "      <td>19.5</td>\n",
       "      <td>306.59470</td>\n",
       "      <td>9</td>\n",
       "      <td>24.98034</td>\n",
       "      <td>121.53951</td>\n",
       "      <td>42.2</td>\n",
       "    </tr>\n",
       "    <tr>\n",
       "      <th>2</th>\n",
       "      <td>2013.583</td>\n",
       "      <td>13.3</td>\n",
       "      <td>561.98450</td>\n",
       "      <td>5</td>\n",
       "      <td>24.98746</td>\n",
       "      <td>121.54391</td>\n",
       "      <td>47.3</td>\n",
       "    </tr>\n",
       "    <tr>\n",
       "      <th>3</th>\n",
       "      <td>2013.500</td>\n",
       "      <td>13.3</td>\n",
       "      <td>561.98450</td>\n",
       "      <td>5</td>\n",
       "      <td>24.98746</td>\n",
       "      <td>121.54391</td>\n",
       "      <td>54.8</td>\n",
       "    </tr>\n",
       "    <tr>\n",
       "      <th>4</th>\n",
       "      <td>2012.833</td>\n",
       "      <td>5.0</td>\n",
       "      <td>390.56840</td>\n",
       "      <td>5</td>\n",
       "      <td>24.97937</td>\n",
       "      <td>121.54245</td>\n",
       "      <td>43.1</td>\n",
       "    </tr>\n",
       "  </tbody>\n",
       "</table>\n",
       "</div>\n",
       "      <button class=\"colab-df-convert\" onclick=\"convertToInteractive('df-05c9bc21-a733-44e0-a777-92bb7e8601c9')\"\n",
       "              title=\"Convert this dataframe to an interactive table.\"\n",
       "              style=\"display:none;\">\n",
       "        \n",
       "  <svg xmlns=\"http://www.w3.org/2000/svg\" height=\"24px\"viewBox=\"0 0 24 24\"\n",
       "       width=\"24px\">\n",
       "    <path d=\"M0 0h24v24H0V0z\" fill=\"none\"/>\n",
       "    <path d=\"M18.56 5.44l.94 2.06.94-2.06 2.06-.94-2.06-.94-.94-2.06-.94 2.06-2.06.94zm-11 1L8.5 8.5l.94-2.06 2.06-.94-2.06-.94L8.5 2.5l-.94 2.06-2.06.94zm10 10l.94 2.06.94-2.06 2.06-.94-2.06-.94-.94-2.06-.94 2.06-2.06.94z\"/><path d=\"M17.41 7.96l-1.37-1.37c-.4-.4-.92-.59-1.43-.59-.52 0-1.04.2-1.43.59L10.3 9.45l-7.72 7.72c-.78.78-.78 2.05 0 2.83L4 21.41c.39.39.9.59 1.41.59.51 0 1.02-.2 1.41-.59l7.78-7.78 2.81-2.81c.8-.78.8-2.07 0-2.86zM5.41 20L4 18.59l7.72-7.72 1.47 1.35L5.41 20z\"/>\n",
       "  </svg>\n",
       "      </button>\n",
       "      \n",
       "  <style>\n",
       "    .colab-df-container {\n",
       "      display:flex;\n",
       "      flex-wrap:wrap;\n",
       "      gap: 12px;\n",
       "    }\n",
       "\n",
       "    .colab-df-convert {\n",
       "      background-color: #E8F0FE;\n",
       "      border: none;\n",
       "      border-radius: 50%;\n",
       "      cursor: pointer;\n",
       "      display: none;\n",
       "      fill: #1967D2;\n",
       "      height: 32px;\n",
       "      padding: 0 0 0 0;\n",
       "      width: 32px;\n",
       "    }\n",
       "\n",
       "    .colab-df-convert:hover {\n",
       "      background-color: #E2EBFA;\n",
       "      box-shadow: 0px 1px 2px rgba(60, 64, 67, 0.3), 0px 1px 3px 1px rgba(60, 64, 67, 0.15);\n",
       "      fill: #174EA6;\n",
       "    }\n",
       "\n",
       "    [theme=dark] .colab-df-convert {\n",
       "      background-color: #3B4455;\n",
       "      fill: #D2E3FC;\n",
       "    }\n",
       "\n",
       "    [theme=dark] .colab-df-convert:hover {\n",
       "      background-color: #434B5C;\n",
       "      box-shadow: 0px 1px 3px 1px rgba(0, 0, 0, 0.15);\n",
       "      filter: drop-shadow(0px 1px 2px rgba(0, 0, 0, 0.3));\n",
       "      fill: #FFFFFF;\n",
       "    }\n",
       "  </style>\n",
       "\n",
       "      <script>\n",
       "        const buttonEl =\n",
       "          document.querySelector('#df-05c9bc21-a733-44e0-a777-92bb7e8601c9 button.colab-df-convert');\n",
       "        buttonEl.style.display =\n",
       "          google.colab.kernel.accessAllowed ? 'block' : 'none';\n",
       "\n",
       "        async function convertToInteractive(key) {\n",
       "          const element = document.querySelector('#df-05c9bc21-a733-44e0-a777-92bb7e8601c9');\n",
       "          const dataTable =\n",
       "            await google.colab.kernel.invokeFunction('convertToInteractive',\n",
       "                                                     [key], {});\n",
       "          if (!dataTable) return;\n",
       "\n",
       "          const docLinkHtml = 'Like what you see? Visit the ' +\n",
       "            '<a target=\"_blank\" href=https://colab.research.google.com/notebooks/data_table.ipynb>data table notebook</a>'\n",
       "            + ' to learn more about interactive tables.';\n",
       "          element.innerHTML = '';\n",
       "          dataTable['output_type'] = 'display_data';\n",
       "          await google.colab.output.renderOutput(dataTable, element);\n",
       "          const docLink = document.createElement('div');\n",
       "          docLink.innerHTML = docLinkHtml;\n",
       "          element.appendChild(docLink);\n",
       "        }\n",
       "      </script>\n",
       "    </div>\n",
       "  </div>\n",
       "  "
      ],
      "text/plain": [
       "   transaction_date  house_age  distance_to_the_nearest_MRT_station  \\\n",
       "0          2012.917       32.0                             84.87882   \n",
       "1          2012.917       19.5                            306.59470   \n",
       "2          2013.583       13.3                            561.98450   \n",
       "3          2013.500       13.3                            561.98450   \n",
       "4          2012.833        5.0                            390.56840   \n",
       "\n",
       "   number_of_convenience_stores  latitude  longitude  house_price_of_unit_area  \n",
       "0                            10  24.98298  121.54024                      37.9  \n",
       "1                             9  24.98034  121.53951                      42.2  \n",
       "2                             5  24.98746  121.54391                      47.3  \n",
       "3                             5  24.98746  121.54391                      54.8  \n",
       "4                             5  24.97937  121.54245                      43.1  "
      ]
     },
     "execution_count": 92,
     "metadata": {},
     "output_type": "execute_result"
    }
   ],
   "source": [
    "data = pd.read_csv('Real_estate_valuation_dataset.csv')\n",
    "data.head()"
   ]
  },
  {
   "cell_type": "code",
   "execution_count": 93,
   "metadata": {
    "colab": {
     "base_uri": "https://localhost:8080/",
     "height": 607
    },
    "executionInfo": {
     "elapsed": 1197,
     "status": "ok",
     "timestamp": 1665353572467,
     "user": {
      "displayName": "Alireza Fazeli",
      "userId": "13019604121988176443"
     },
     "user_tz": 240
    },
    "id": "NkiFlc-Ge954",
    "outputId": "a7c33154-6241-40f1-da27-1926efa4f7a0"
   },
   "outputs": [
    {
     "data": {
      "image/png": "[encoded data removed]",
      "text/plain": [
       "<Figure size 864x720 with 9 Axes>"
      ]
     },
     "metadata": {
      "needs_background": "light"
     },
     "output_type": "display_data"
    }
   ],
   "source": [
    "# Use hist to plot the distribution of the data\n",
    "# Select a proper bin size \n",
    "data.hist(figsize=(12, 10), bins=20, edgecolor=\"black\")\n",
    "plt.show()"
   ]
  },
  {
   "cell_type": "code",
   "execution_count": 94,
   "metadata": {
    "colab": {
     "base_uri": "https://localhost:8080/"
    },
    "executionInfo": {
     "elapsed": 4,
     "status": "ok",
     "timestamp": 1665353573208,
     "user": {
      "displayName": "Alireza Fazeli",
      "userId": "13019604121988176443"
     },
     "user_tz": 240
    },
    "id": "HgbnEZeJe957",
    "outputId": "b351b0d9-377e-45c8-ad8c-fdcd2b4b042b"
   },
   "outputs": [
    {
     "data": {
      "text/plain": [
       "number_of_convenience_stores           0.571005\n",
       "latitude                               0.546307\n",
       "longitude                              0.523287\n",
       "transaction_date                       0.087491\n",
       "house_age                             -0.210567\n",
       "distance_to_the_nearest_MRT_station   -0.673613\n",
       "Name: house_price_of_unit_area, dtype: float64"
      ]
     },
     "execution_count": 94,
     "metadata": {},
     "output_type": "execute_result"
    }
   ],
   "source": [
    "# Compute the standard correlation coefficient between every pair of attributes:\n",
    "corr_matrix = data.corr()\n",
    "corr_matrix[\"house_price_of_unit_area\"].sort_values(ascending=False)[1:]"
   ]
  },
  {
   "cell_type": "markdown",
   "metadata": {
    "id": "purimSGge95_"
   },
   "source": [
    "**Written Answer**: Explain how much each attribute correlates with house_price_of_unit_area?\n",
    "\n",
    "The correlation coefficient ranges from –1 to 1. When it is close to 1, it means that there is a strong positive correlation; for example, the \"house_price_of_unit_area\" tends to go up when \"number_of_convenience_stores\" goes up. When the coefficient is close to –1, it means that there is a strong negative correlation; you can see, for example, a negative correlation between \"distance_to_the_nearest_MRT_station\" and \"house_price_of_unit_area\" (i.e., prices have a tendency to go down when they are closer to the MRT station). Finally, coefficients close to 0 mean that there is no/little linear correlation e.g., transaction_date."
   ]
  },
  {
   "cell_type": "markdown",
   "metadata": {
    "id": "TtGs8-QKe96C"
   },
   "source": [
    "### Question 2: Simple Linear Regression (30 points)\n",
    "Let's first examine one feature `distance_to_the_nearest_MRT_station` to see if it can be used to predict `house_price_of_unit_area`:"
   ]
  },
  {
   "cell_type": "code",
   "execution_count": 95,
   "metadata": {
    "executionInfo": {
     "elapsed": 169,
     "status": "ok",
     "timestamp": 1665353575441,
     "user": {
      "displayName": "Alireza Fazeli",
      "userId": "13019604121988176443"
     },
     "user_tz": 240
    },
    "id": "wKvQ08nae96F"
   },
   "outputs": [],
   "source": [
    "# Read the corresponding column\n",
    "x = data.distance_to_the_nearest_MRT_station.values\n",
    "y = data.house_price_of_unit_area.values\n",
    "\n",
    "# Make x into a design matrix\n",
    "x = np.c_[np.ones(x.size), x]\n",
    "\n",
    "# Split the data into training and test set with 20% test size and random_state=seed\n",
    "xtrain, xtest, ytrain, ytest = train_test_split(x, y, test_size=0.2, random_state=seed)"
   ]
  },
  {
   "cell_type": "markdown",
   "metadata": {
    "id": "ETodTfDne96K"
   },
   "source": [
    "Let's first use LinearRegression from Sklearn:"
   ]
  },
  {
   "cell_type": "code",
   "execution_count": 96,
   "metadata": {
    "colab": {
     "base_uri": "https://localhost:8080/"
    },
    "executionInfo": {
     "elapsed": 185,
     "status": "ok",
     "timestamp": 1665353577005,
     "user": {
      "displayName": "Alireza Fazeli",
      "userId": "13019604121988176443"
     },
     "user_tz": 240
    },
    "id": "UtxamXwye96P",
    "outputId": "3cd7b062-80bb-4f6d-dcd5-98da41a42f06"
   },
   "outputs": [
    {
     "name": "stdout",
     "output_type": "stream",
     "text": [
      "Intercept is: 37.976\n",
      "Coefficients are: [ 0.    -9.073]\n",
      "Coefficient of determination on the training set: 0.439\n",
      "Coefficient of determination on the test set: 0.516\n"
     ]
    }
   ],
   "source": [
    "# Because the values of features vary in magnitude, we often\n",
    "# standardize features by removing the mean and scaling to unit\n",
    "# variance using sklearn.preprocessing.StandardScaler\n",
    "\n",
    "# Define the model\n",
    "lin_reg = LinearRegression()\n",
    "model = make_pipeline(StandardScaler(), lin_reg)\n",
    "\n",
    "# Fit the model using the training set\n",
    "model.fit(xtrain, ytrain)\n",
    "\n",
    "# Obtain intercept and coefficient\n",
    "intercept = lin_reg.intercept_\n",
    "coefficient = lin_reg.coef_\n",
    "print(\"Intercept is:\", intercept.round(3))\n",
    "print(\"Coefficients are:\", coefficient.round(3))\n",
    "\n",
    "# Obtain coefficient of determination (R-squared) on the training data\n",
    "r2_train = r2_score(ytrain, model.predict(xtrain))\n",
    "# r2_train = model.score(xtrain, ytrain)\n",
    "print(\"Coefficient of determination on the training set: %.3f\" % r2_train)\n",
    "\n",
    "# Make predictions using the testing set\n",
    "ypred = model.predict(xtest)\n",
    "\n",
    "# Evaluate performance on the test data\n",
    "r2_test = r2_score(ytest, ypred)\n",
    "r2_test = model.score(xtest, ytest)\n",
    "print(\"Coefficient of determination on the test set: %.3f\" % r2_test)"
   ]
  },
  {
   "cell_type": "markdown",
   "metadata": {
    "id": "ceqMdjsJe96X"
   },
   "source": [
    "**Written Answer**: Based on the R-squared of training and test set, will it be better to use regularized regression?\n",
    "\n",
    "R-squared determines how much of total variation in Y is explained by variation in X. An R-squared of 0 means the model does not explain the variablity in Y, and 1 meaning full variablity in the target variablity. Here, the model has poor performance on both training and test sets, and it does better on instances that it never saw during training (test set). Choosing a wrong model (either too simple or too complex) can rendomly lead to this scenario. Regularization is about calibrating models in order to minimize the adjusted loss function and prevent overfitting or underfitting. Since we are seeing an underfitting model, it is worth trying regularization. However, as you will see in the scatter plot below, the the dataset seems to follow an exponentially decaying (i.e., nonlinear) behaviour and we can not expect a great fit with linear regression no matter regularized or otherwise."
   ]
  },
  {
   "cell_type": "markdown",
   "metadata": {
    "id": "YEbo-XOJEwgB"
   },
   "source": [
    "### Extras:\n",
    "To better evaluate a model we would do cross-validation that is to randomly split the training set into N distinct subsets (i.e. folds) and train and evaluate the model N times, picking a different fold (validation set) for evaluation every time and training on the other N-1 folds:"
   ]
  },
  {
   "cell_type": "code",
   "execution_count": 97,
   "metadata": {
    "colab": {
     "base_uri": "https://localhost:8080/"
    },
    "executionInfo": {
     "elapsed": 167,
     "status": "ok",
     "timestamp": 1665353579259,
     "user": {
      "displayName": "Alireza Fazeli",
      "userId": "13019604121988176443"
     },
     "user_tz": 240
    },
    "id": "kYG1aie8PLTx",
    "outputId": "05b5630d-98d4-4811-8df4-d8841fdaea23"
   },
   "outputs": [
    {
     "name": "stdout",
     "output_type": "stream",
     "text": [
      "Number of folds: 5\n",
      "Scores: [0.362 0.552 0.492 0.352 0.414]\n",
      "Mean: 0.434\n",
      "Standard deviation: 0.077\n"
     ]
    }
   ],
   "source": [
    "from sklearn.model_selection import cross_val_score\n",
    "N =5 \n",
    "scores = cross_val_score(model, xtrain, ytrain, scoring=\"r2\", cv=N)\n",
    "print(\"Number of folds:\", N)\n",
    "print(\"Scores:\", scores.round(3))\n",
    "print(\"Mean:\", scores.mean().round(3))\n",
    "print(\"Standard deviation:\", scores.std().round(3))"
   ]
  },
  {
   "cell_type": "markdown",
   "metadata": {
    "id": "9GtlbVz7QTl2"
   },
   "source": [
    "We can see that cross-validation also shows a similar score of about 0.43 with a low standard deviation, which is a good thing. At least you know now that the score you got in the previous step is consistent across different folds of the training set. Now, let's try ElasticNet regularization to see if we can make the model any better. We remember from the lecture notes that we need to give two parameters (i.e, alpha and l1-ratio) to ElasticNet. The first one determines how strong regularize bias and the latter variance. But, how to choose values? We can use the cross-validated version of ElasticNet that is `ElasticNetCV`. It goes through N folds and finds the best parameters and train the model based on them."
   ]
  },
  {
   "cell_type": "code",
   "execution_count": 98,
   "metadata": {
    "colab": {
     "base_uri": "https://localhost:8080/"
    },
    "executionInfo": {
     "elapsed": 184,
     "status": "ok",
     "timestamp": 1665353580722,
     "user": {
      "displayName": "Alireza Fazeli",
      "userId": "13019604121988176443"
     },
     "user_tz": 240
    },
    "id": "BxLMHD1d54tO",
    "outputId": "75332ad6-f6fb-4992-b623-ab6e1d0f2a7c"
   },
   "outputs": [
    {
     "name": "stdout",
     "output_type": "stream",
     "text": [
      "Intercept is: 37.976\n",
      "Coefficients are: [ 0.    -8.855]\n",
      "Best fit: alpha=0.065, l1_ratio=0.700\n",
      "Coefficient of determination on the training set: 0.439\n",
      "Coefficient of determination on the test set: 0.515\n"
     ]
    }
   ],
   "source": [
    "from sklearn.linear_model import ElasticNetCV\n",
    "\n",
    "eps = 5e-3 # The smaller eps, the longer the path  \n",
    "lin_reg_en = ElasticNetCV(eps = eps, l1_ratio=[.1, .5, .7, .9, .95, .99, 1], cv=3, random_state=seed)\n",
    "\n",
    "model2 = make_pipeline(StandardScaler(), lin_reg_en)\n",
    "\n",
    "# Fit it\n",
    "model2.fit(xtrain, ytrain)\n",
    "\n",
    "# Obtain intercept and coefficient\n",
    "intercept = lin_reg_en.intercept_\n",
    "coefficient = lin_reg_en.coef_\n",
    "print(\"Intercept is:\", intercept.round(3))\n",
    "print(\"Coefficients are:\", coefficient.round(3))\n",
    "\n",
    "# Obtain best alpha and l1_ratio that ElasticNetCV found\n",
    "print('Best fit: alpha=%.3f, l1_ratio=%.3f' % (lin_reg_en.alpha_, lin_reg_en.l1_ratio_))\n",
    "\n",
    "# Obtain coefficient of determination (R-squared) on the training data\n",
    "r2_train = r2_score(ytrain, model2.predict(xtrain))\n",
    "# r2_train = model2.score(xtrain, ytrain)\n",
    "print(\"Coefficient of determination on the training set: %.3f\" % r2_train)\n",
    "\n",
    "# Make predictions using the testing set\n",
    "ypred2 = model2.predict(xtest)\n",
    "\n",
    "# Evaluate performance on the test data\n",
    "r2_test = r2_score(ytest, ypred2)\n",
    "# r2_test = model2.score(xtest, ytest)\n",
    "print(\"Coefficient of determination on the test set: %.3f\" % r2_test)"
   ]
  },
  {
   "cell_type": "markdown",
   "metadata": {
    "id": "Bi86ywI1ldoy"
   },
   "source": [
    "As expected, cross-validated ElasticNet regularization did not do much and we got almost the same score. However, one should notice that it did decrease the absolute value of the coefficient. We wish to have smaller coefficients and have them set to zero if they are too small.\n",
    "\n",
    "Alternatively, you can use the alpha and l1_ratio calculated in the previous step as the arguments to pass on for training a simple ElasticNet model and the result will be the same:"
   ]
  },
  {
   "cell_type": "code",
   "execution_count": 99,
   "metadata": {
    "colab": {
     "base_uri": "https://localhost:8080/"
    },
    "executionInfo": {
     "elapsed": 128,
     "status": "ok",
     "timestamp": 1665353582124,
     "user": {
      "displayName": "Alireza Fazeli",
      "userId": "13019604121988176443"
     },
     "user_tz": 240
    },
    "id": "OeHvsb-8kPIb",
    "outputId": "2f6318ae-ac08-4c1f-d537-d4d788d78d35"
   },
   "outputs": [
    {
     "name": "stdout",
     "output_type": "stream",
     "text": [
      "Intercept is: 37.976\n",
      "Coefficients are: [ 0.    -8.855]\n",
      "Coefficient of determination on the training set: 0.439\n",
      "Coefficient of determination on the test set: 0.515\n"
     ]
    }
   ],
   "source": [
    "from sklearn.linear_model import ElasticNet\n",
    "lin_reg_en2 = ElasticNet(alpha=lin_reg_en.alpha_, l1_ratio=lin_reg_en.l1_ratio_, random_state=seed)\n",
    "model3 = make_pipeline(StandardScaler(), lin_reg_en2)\n",
    "\n",
    "# Fit it\n",
    "model3.fit(xtrain, ytrain)\n",
    "\n",
    "# Obtain intercept and coefficient\n",
    "intercept = lin_reg_en2.intercept_\n",
    "coefficient = lin_reg_en2.coef_\n",
    "print(\"Intercept is:\", intercept.round(3))\n",
    "print(\"Coefficients are:\", coefficient.round(3))\n",
    "\n",
    "# Obtain coefficient of determination (R-squared) on the training data\n",
    "r2_train = r2_score(ytrain, model3.predict(xtrain))\n",
    "# r2_train = model3.score(xtrain, ytrain)\n",
    "print(\"Coefficient of determination on the training set: %.3f\" % r2_train)\n",
    "\n",
    "# Make predictions using the testing set\n",
    "ypred2 = model3.predict(xtest)\n",
    "\n",
    "# Evaluate performance on the test data\n",
    "r2_test = r2_score(ytest, ypred2)\n",
    "# r2_test = model3.score(xtest, ytest)\n",
    "print(\"Coefficient of determination on the test set: %.3f\" % r2_test)"
   ]
  },
  {
   "cell_type": "markdown",
   "metadata": {
    "id": "DfLNty9OE1D4"
   },
   "source": [
    "### End of Extras."
   ]
  },
  {
   "cell_type": "code",
   "execution_count": 100,
   "metadata": {
    "colab": {
     "base_uri": "https://localhost:8080/",
     "height": 279
    },
    "executionInfo": {
     "elapsed": 224,
     "status": "ok",
     "timestamp": 1665353584562,
     "user": {
      "displayName": "Alireza Fazeli",
      "userId": "13019604121988176443"
     },
     "user_tz": 240
    },
    "id": "viuA9RBYe96Z",
    "outputId": "fbe7bb6e-5005-448a-ebb8-338bb791d69b"
   },
   "outputs": [
    {
     "data": {
      "image/png": "[encoded data removed]",
      "text/plain": [
       "<Figure size 432x288 with 1 Axes>"
      ]
     },
     "metadata": {
      "needs_background": "light"
     },
     "output_type": "display_data"
    }
   ],
   "source": [
    "# Plot test data and predicted data\n",
    "plt.scatter(xtest[:,1:], ytest, color='blue', label='Data Points')\n",
    "plt.plot(xtest[:,1:], ypred, color=\"orange\", linewidth=3, label='Linear Regression')\n",
    "plt.plot(xtest[:,1:], ypred2, color=\"red\", linewidth=2, label='ElasticNetCV')\n",
    "plt.xlabel('Distance to the nearest MRT station')\n",
    "plt.ylabel('House Price')\n",
    "plt.legend()\n",
    "plt.show()"
   ]
  },
  {
   "cell_type": "code",
   "execution_count": 101,
   "metadata": {
    "executionInfo": {
     "elapsed": 176,
     "status": "ok",
     "timestamp": 1665353585812,
     "user": {
      "displayName": "Alireza Fazeli",
      "userId": "13019604121988176443"
     },
     "user_tz": 240
    },
    "id": "ASfT3gZHe96b"
   },
   "outputs": [],
   "source": [
    "# Define a function to plot learning curves based on R-squared metric:\n",
    "\n",
    "def plot_learning_curves_R2(model, X, y):\n",
    "    X_train, X_val, y_train, y_val = train_test_split(X, y, test_size=0.2, random_state=seed)\n",
    "    train_errors, val_errors = [], []\n",
    "    for m in range(3, len(X_train) + 1):\n",
    "        model.fit(X_train[:m], y_train[:m])\n",
    "        y_train_predict = model.predict(X_train[:m])\n",
    "        y_val_predict = model.predict(X_val)\n",
    "        train_errors.append(r2_score(y_train[:m], y_train_predict))\n",
    "        val_errors.append(r2_score(y_val, y_val_predict))\n",
    "    plt.plot(train_errors, \"r-+\", linewidth=2, label=\"train\")\n",
    "    plt.plot(val_errors, \"b-\", linewidth=3, label=\"val\")    \n",
    "    plt.legend(loc=\"upper right\", fontsize=14)\n",
    "    plt.xlabel(\"Training set size\", fontsize=14)\n",
    "    plt.ylabel('$R^2$', fontsize=14)"
   ]
  },
  {
   "cell_type": "code",
   "execution_count": 102,
   "metadata": {
    "colab": {
     "base_uri": "https://localhost:8080/",
     "height": 287
    },
    "executionInfo": {
     "elapsed": 768,
     "status": "ok",
     "timestamp": 1665353588589,
     "user": {
      "displayName": "Alireza Fazeli",
      "userId": "13019604121988176443"
     },
     "user_tz": 240
    },
    "id": "2DCu9nfKuI1d",
    "outputId": "328e21d9-a39d-46c0-812c-955df1c7dbaf"
   },
   "outputs": [
    {
     "data": {
      "image/png": "[encoded data removed]",
      "text/plain": [
       "<Figure size 432x288 with 1 Axes>"
      ]
     },
     "metadata": {
      "needs_background": "light"
     },
     "output_type": "display_data"
    }
   ],
   "source": [
    "plot_learning_curves_R2(model, xtrain, ytrain) # This is the correct way of doing it\n",
    "# however, for this assignment doing it this way:\n",
    "# plot_learning_curves_R2(model, x, y) # will be also okay. \n",
    "plt.axis([0, 250, 0, 1])\n",
    "plt.show()"
   ]
  },
  {
   "cell_type": "markdown",
   "metadata": {
    "id": "ZQ5chUV4e96f"
   },
   "source": [
    "**Written Answer**: Explain how do you interpret the learning curves you just plotted?\n",
    "\n",
    "As new instances are added to the training set, the model fails to fit the training data and the curves saturate to a small R2 score, because the data is noisy and it is not linear at all and therefore this model is underfitting. The error on the training data goes up until it reaches a plateau (around training set size of 110), at which point adding new instances to the training set doesn’t make the average error much better or worse. If a right model is chosen for a given dataset, you would normally expect to see better performance on the training set (red curve) than the validation set, but here is the other way round (look at the gap between the curves). If you used a much larger training set, the two curves would not get closer. Therefore, in this scenario, rather than going after collecting more datapoints for training, better to go after finding a proper model.  "
   ]
  },
  {
   "cell_type": "markdown",
   "metadata": {
    "id": "JTL4Dgyse96h"
   },
   "source": [
    "### Question 3: Multivariate Linear Regression (30 Points)\n",
    "\n",
    "We just used only one feature to predict house price. But sometimes using more features can better predict the target variable. \n",
    "\n",
    "Here, let's examine another two features: latitude and longitude. These two variables together give information about the location, which should be related to house price:"
   ]
  },
  {
   "cell_type": "code",
   "execution_count": 103,
   "metadata": {
    "colab": {
     "base_uri": "https://localhost:8080/",
     "height": 279
    },
    "executionInfo": {
     "elapsed": 362,
     "status": "ok",
     "timestamp": 1665353593216,
     "user": {
      "displayName": "Alireza Fazeli",
      "userId": "13019604121988176443"
     },
     "user_tz": 240
    },
    "id": "L66hoDpae96i",
    "outputId": "12a3fd66-0819-483a-bc77-07e77ab20e06"
   },
   "outputs": [
    {
     "data": {
      "image/png": "[encoded data removed]",
      "text/plain": [
       "<Figure size 432x288 with 1 Axes>"
      ]
     },
     "metadata": {
      "needs_background": "light"
     },
     "output_type": "display_data"
    }
   ],
   "source": [
    "# Let's visualize it using sns scatterplot\n",
    "sns.scatterplot(data=data, x=\"longitude\", y=\"latitude\",\n",
    "                size=\"house_price_of_unit_area\", hue=\"house_price_of_unit_area\",\n",
    "                palette=\"viridis\", alpha=0.5)\n",
    "plt.show()"
   ]
  },
  {
   "cell_type": "code",
   "execution_count": 112,
   "metadata": {
    "executionInfo": {
     "elapsed": 157,
     "status": "ok",
     "timestamp": 1665353785342,
     "user": {
      "displayName": "Alireza Fazeli",
      "userId": "13019604121988176443"
     },
     "user_tz": 240
    },
    "id": "x3aFr9Qde96m"
   },
   "outputs": [],
   "source": [
    "# Read the corresponding column\n",
    "y = data.house_price_of_unit_area.values\n",
    "longitude = data.longitude.values \n",
    "latitude = data.latitude.values\n",
    "\n",
    "# Make x into a design matrix\n",
    "N = len(latitude)\n",
    "x = np.c_[np.ones(N), longitude, latitude]\n",
    "# x = data[['longitude', 'latitude']]\n",
    "\n",
    "# Split the data into training and test set with 20% test size and random_state=seed\n",
    "xtrain, xtest, ytrain, ytest = train_test_split(x, y, test_size=0.2, random_state=seed)"
   ]
  },
  {
   "cell_type": "markdown",
   "metadata": {
    "id": "Uncprkoie961"
   },
   "source": [
    "Let's use linear regression again:"
   ]
  },
  {
   "cell_type": "code",
   "execution_count": 113,
   "metadata": {
    "colab": {
     "base_uri": "https://localhost:8080/"
    },
    "executionInfo": {
     "elapsed": 4,
     "status": "ok",
     "timestamp": 1665353786649,
     "user": {
      "displayName": "Alireza Fazeli",
      "userId": "13019604121988176443"
     },
     "user_tz": 240
    },
    "id": "5SYmikIye962",
    "outputId": "0c476e09-1953-43a8-a80e-fe7d46fa7641"
   },
   "outputs": [
    {
     "name": "stdout",
     "output_type": "stream",
     "text": [
      "Intercept is: 37.9764\n",
      "Coefficient are: [0.     4.9152 5.3401]\n",
      "Coefficient of determination on the training set: 0.3958\n",
      "Coefficient of determination on the test set: 0.4450\n"
     ]
    }
   ],
   "source": [
    "# Define the model\n",
    "lin_reg = LinearRegression()\n",
    "model = make_pipeline(StandardScaler(), lin_reg)\n",
    "\n",
    "# Fit the model using the training set\n",
    "# model.fit(xtrain, ytrain.ravel())\n",
    "model.fit(xtrain, ytrain)\n",
    "\n",
    "# Obtain intercept and coefficient\n",
    "intercept = lin_reg.intercept_\n",
    "coefficient = lin_reg.coef_\n",
    "print(\"Intercept is:\", intercept.round(4))\n",
    "print(\"Coefficient are:\", coefficient.round(4))\n",
    "\n",
    "# Obtain coefficient of determination on the training data\n",
    "# r2_train = r2_score(ytrain, model.predict(xtrain))\n",
    "r2_train = model.score(xtrain, ytrain)\n",
    "print(\"Coefficient of determination on the training set: %.4f\" % r2_train)\n",
    "\n",
    "# Make predictions using the testing set\n",
    "ypred = model.predict(xtest)\n",
    "\n",
    "# Evaluate performance on the test data\n",
    "r2_test = r2_score(ytest, ypred)\n",
    "r2_test = model.score(xtest, ytest)\n",
    "print(\"Coefficient of determination on the test set: %.4f\" % r2_test)"
   ]
  },
  {
   "cell_type": "markdown",
   "metadata": {
    "id": "Ow4H3kVJe969"
   },
   "source": [
    "Use the \"plot_learning_curves\" function to plot the learning curves of the model:"
   ]
  },
  {
   "cell_type": "code",
   "execution_count": 114,
   "metadata": {
    "colab": {
     "base_uri": "https://localhost:8080/",
     "height": 287
    },
    "executionInfo": {
     "elapsed": 815,
     "status": "ok",
     "timestamp": 1665353788932,
     "user": {
      "displayName": "Alireza Fazeli",
      "userId": "13019604121988176443"
     },
     "user_tz": 240
    },
    "id": "371DqdLSuI1h",
    "outputId": "6be3fb6e-f1d0-463f-d43c-8dab1a214d9e"
   },
   "outputs": [
    {
     "data": {
      "image/png": "[encoded data removed]",
      "text/plain": [
       "<Figure size 432x288 with 1 Axes>"
      ]
     },
     "metadata": {
      "needs_background": "light"
     },
     "output_type": "display_data"
    }
   ],
   "source": [
    "plot_learning_curves_R2(model, xtrain, ytrain) # This is the correct way of doing it\n",
    "# however, for this assignment doing it this way:\n",
    "# plot_learning_curves_R2(model, x, y) # will be also okay. \n",
    "plt.axis([0, 250, 0, 1])\n",
    "plt.show()"
   ]
  },
  {
   "cell_type": "markdown",
   "metadata": {
    "id": "oIpjnlLwe97B"
   },
   "source": [
    "**Written Answer**: Compare this learning curve against the previous one. What insights you can derive by this comparison?\n",
    "\n",
    "The curve reaches a plateau around training set size of 130 which is bigger than that of the previous figure. Performance scores on both curves saturate to lower scores."
   ]
  },
  {
   "cell_type": "markdown",
   "metadata": {
    "id": "yoHU3zjce97D"
   },
   "source": [
    "Let's use stochastic gradient descent with initial learning rate of 0.01:"
   ]
  },
  {
   "cell_type": "code",
   "execution_count": 115,
   "metadata": {
    "colab": {
     "base_uri": "https://localhost:8080/"
    },
    "executionInfo": {
     "elapsed": 120,
     "status": "ok",
     "timestamp": 1665353791599,
     "user": {
      "displayName": "Alireza Fazeli",
      "userId": "13019604121988176443"
     },
     "user_tz": 240
    },
    "id": "r5HthDf_e97F",
    "outputId": "6df807f7-206f-4db0-af15-64a8b93f95ff"
   },
   "outputs": [
    {
     "name": "stdout",
     "output_type": "stream",
     "text": [
      "Intercept is: 37.9843\n",
      "Coefficient are: [0.     4.8968 5.3264]\n",
      "Coefficient of determination on the training set: 0.3958\n",
      "Coefficient of determination on the test set: 0.4448\n"
     ]
    }
   ],
   "source": [
    "# Define the model\n",
    "sgd_reg = SGDRegressor(max_iter=100000, tol=1e-3, eta0=0.01, random_state=seed)\n",
    "model = make_pipeline(StandardScaler(), sgd_reg)\n",
    "\n",
    "# Fit the model using the training set\n",
    "model.fit(xtrain,ytrain)\n",
    "\n",
    "# Obtain intercept and coefficient\n",
    "intercept = sgd_reg.intercept_\n",
    "coefficient = sgd_reg.coef_\n",
    "print(\"Intercept is: %.4f\" % intercept)\n",
    "print(\"Coefficient are:\", coefficient.round(4))\n",
    "\n",
    "# Obtain coefficient of determination on the training data\n",
    "# r2_train = r2_score(ytrain, model.predict(xtrain))\n",
    "r2_train = model.score(xtrain, ytrain)\n",
    "print(\"Coefficient of determination on the training set: %.4f\" % r2_train)\n",
    "\n",
    "# Make predictions using the testing set\n",
    "ypred = model.predict(xtest)\n",
    "\n",
    "# Evaluate performance on the test data\n",
    "r2_test = r2_score(ytest, ypred)\n",
    "r2_test = model.score(xtest, ytest)\n",
    "print(\"Coefficient of determination on the test set: %.4f\" % r2_test)"
   ]
  },
  {
   "cell_type": "code",
   "execution_count": 116,
   "metadata": {
    "colab": {
     "base_uri": "https://localhost:8080/",
     "height": 287
    },
    "executionInfo": {
     "elapsed": 1172,
     "status": "ok",
     "timestamp": 1665353795528,
     "user": {
      "displayName": "Alireza Fazeli",
      "userId": "13019604121988176443"
     },
     "user_tz": 240
    },
    "id": "55-DX0C9uI1j",
    "outputId": "0fde78ce-c7c7-4dad-be0e-2f17e416016e"
   },
   "outputs": [
    {
     "data": {
      "image/png": "[encoded data removed]",
      "text/plain": [
       "<Figure size 432x288 with 1 Axes>"
      ]
     },
     "metadata": {
      "needs_background": "light"
     },
     "output_type": "display_data"
    }
   ],
   "source": [
    "plot_learning_curves_R2(model, xtrain, ytrain) # This is the correct way of doing it\n",
    "# however, for this assignment doing it this way:\n",
    "# plot_learning_curves_R2(model, x, y) # will be also okay. \n",
    "plt.axis([0, 250, 0, 1])\n",
    "plt.show()"
   ]
  },
  {
   "cell_type": "markdown",
   "metadata": {
    "id": "nO3BcWane97H"
   },
   "source": [
    "**Written Answer:** Compare the scores and learning curves of the SGD regression versus the linear regression. Are the learning curves similar or different and why? Also compare and explain why their values for Intercept and Coefficient are a little bit different?\n",
    "(Hint: Check and compare default arguments and cost functions for both methods)\n",
    "\n",
    "The curves are somehow identical however SGD yields slightly smaller scores and that's because it does not converge exactly to the ideal minimum of the cost function, but somewhere very close to it. We see smaller values for the coefficients and that's because unless set to `False` SGDRegressor applies some L2 regularization by default."
   ]
  },
  {
   "cell_type": "markdown",
   "metadata": {
    "id": "RKMUicXUe97I"
   },
   "source": [
    "### Question 4: Feature Selection (25 Points)\n",
    "Now, let's use all available features to predict house price:"
   ]
  },
  {
   "cell_type": "code",
   "execution_count": 131,
   "metadata": {
    "executionInfo": {
     "elapsed": 162,
     "status": "ok",
     "timestamp": 1665355869488,
     "user": {
      "displayName": "Alireza Fazeli",
      "userId": "13019604121988176443"
     },
     "user_tz": 240
    },
    "id": "jC15st29e97K"
   },
   "outputs": [],
   "source": [
    "features = data.drop('house_price_of_unit_area', axis='columns')\n",
    "x = features.values\n",
    "N = len(features)\n",
    "x = np.c_[np.ones(N), x]\n",
    "\n",
    "# Split the data into training and test set with 20% test size and random_state=0\n",
    "xtrain, xtest, ytrain, ytest = train_test_split(x, y, test_size=0.2, random_state=seed)"
   ]
  },
  {
   "cell_type": "markdown",
   "metadata": {
    "id": "S9N4SXK4e97L"
   },
   "source": [
    "Let's use Ridge regression with alpha = 0.01:"
   ]
  },
  {
   "cell_type": "code",
   "execution_count": 132,
   "metadata": {
    "colab": {
     "base_uri": "https://localhost:8080/"
    },
    "executionInfo": {
     "elapsed": 183,
     "status": "ok",
     "timestamp": 1665355871091,
     "user": {
      "displayName": "Alireza Fazeli",
      "userId": "13019604121988176443"
     },
     "user_tz": 240
    },
    "id": "qRutHIHbe97M",
    "outputId": "1a0509f3-5105-48f5-c496-59376767b4c6"
   },
   "outputs": [
    {
     "name": "stdout",
     "output_type": "stream",
     "text": [
      "Intercept is: 37.976\n",
      "Coefficient are: [ 0.     1.411 -2.969 -5.607  3.171  2.863 -0.103]\n",
      "Coefficient of determination on the training set: 0.565\n",
      "Coefficient of determination on the test set: 0.657\n"
     ]
    }
   ],
   "source": [
    "# Define the model\n",
    "ridge_reg = Ridge(alpha=0.01, solver=\"cholesky\", random_state=seed)\n",
    "model = make_pipeline(StandardScaler(), ridge_reg)\n",
    "\n",
    "# Fit the model using the training set\n",
    "model.fit(xtrain,ytrain)\n",
    "\n",
    "# Obtain intercept and coefficient\n",
    "intercept = ridge_reg.intercept_\n",
    "coefficient = ridge_reg.coef_\n",
    "print(\"Intercept is:\", intercept.round(3))\n",
    "print(\"Coefficient are:\", coefficient.round(3))\n",
    "\n",
    "# Obtain coefficient of determination on the training data\n",
    "# r2_train = r2_score(ytrain, model.predict(xtrain))\n",
    "r2_train = model.score(xtrain, ytrain)\n",
    "print(\"Coefficient of determination on the training set: %.3f\" % r2_train)\n",
    "\n",
    "# Make predictions using the testing set\n",
    "ypred = model.predict(xtest)\n",
    "\n",
    "# Evaluate performance on the test data\n",
    "r2_test = r2_score(ytest, ypred)\n",
    "r2_test = model.score(xtest, ytest)\n",
    "print(\"Coefficient of determination on the test set: %.3f\" % r2_test)"
   ]
  },
  {
   "cell_type": "code",
   "execution_count": 129,
   "metadata": {
    "colab": {
     "base_uri": "https://localhost:8080/",
     "height": 296
    },
    "executionInfo": {
     "elapsed": 361,
     "status": "ok",
     "timestamp": 1665355292260,
     "user": {
      "displayName": "Alireza Fazeli",
      "userId": "13019604121988176443"
     },
     "user_tz": 240
    },
    "id": "O-nwUBuEe97O",
    "outputId": "8ca4626d-b3ea-4eb9-fbe8-70891f744c7d"
   },
   "outputs": [
    {
     "data": {
      "text/plain": [
       "Text(0.5, 0, 'Coefficient')"
      ]
     },
     "execution_count": 129,
     "metadata": {},
     "output_type": "execute_result"
    },
    {
     "data": {
      "image/png": "[encoded data removed]",
      "text/plain": [
       "<Figure size 432x288 with 1 Axes>"
      ]
     },
     "metadata": {
      "needs_background": "light"
     },
     "output_type": "display_data"
    }
   ],
   "source": [
    "# Use plot.barh to plot the value of coefficient\n",
    "\n",
    "# Select coefficient expect for the first bias one\n",
    "coefficient_feature = coefficient[1:]\n",
    "\n",
    "# Get the names of features\n",
    "features_name = list(features.columns)\n",
    "\n",
    "# Plot\n",
    "plt.barh(features_name,coefficient_feature)\n",
    "plt.xlabel('Coefficient')"
   ]
  },
  {
   "cell_type": "markdown",
   "metadata": {
    "id": "l3lYaDLne97Q"
   },
   "source": [
    "**Written Answer:** How do you interpret the result? How can it help you to select features to predict price? How does this result compare against the insights that you derived form the correlation matrix in Question 1?\n",
    "\n",
    "The bar chart ranks _distance_to_the_nearest_MRT_station_ and _house_age_ as the top 2 influential features which is a consistent conclusion as with the correlation matrix. Those features with positive correlations led to positive coefficients and those with negative correlations led to negative coefficients. Remember, that `corr_matrix` captures only linear correlation and here we already saw that a linear model does not seem to be the best option for this dataset. And that's why there is some discrepancy between the correlation matrix and the bar chart."
   ]
  },
  {
   "cell_type": "code",
   "execution_count": 130,
   "metadata": {
    "colab": {
     "base_uri": "https://localhost:8080/",
     "height": 287
    },
    "executionInfo": {
     "elapsed": 794,
     "status": "ok",
     "timestamp": 1665355298808,
     "user": {
      "displayName": "Alireza Fazeli",
      "userId": "13019604121988176443"
     },
     "user_tz": 240
    },
    "id": "gpWWMxCcuI1m",
    "outputId": "7b5039ce-6ce5-48fe-cf35-472058be63f2"
   },
   "outputs": [
    {
     "data": {
      "image/png": "[encoded data removed]",
      "text/plain": [
       "<Figure size 432x288 with 1 Axes>"
      ]
     },
     "metadata": {
      "needs_background": "light"
     },
     "output_type": "display_data"
    }
   ],
   "source": [
    "plot_learning_curves_R2(model, xtrain, ytrain) # This is the correct way of doing it\n",
    "# however, for this assignment doing it this way:\n",
    "# plot_learning_curves_R2(model, x, y) # will be also okay. \n",
    "plt.axis([0, 250, 0, 1])\n",
    "plt.show()"
   ]
  },
  {
   "cell_type": "markdown",
   "metadata": {
    "id": "j-j6ue-He97U"
   },
   "source": [
    "**Written Answer:** How this learning curve compares against the rest of the learning curves? Based on the learning curves, what model and size of training set would you choose as your final model?\n",
    "\n",
    "The curves reach a plateau around training set size of 180. Both curves saturate to higher R2 scores. Based on our experiments, the model trained for Question 4 is the best among all. However, a cross validation with size of each fold being at least 180 can give us a better evaluation over performance."
   ]
  },
  {
   "cell_type": "markdown",
   "metadata": {
    "id": "iOsXYSsGuI1m"
   },
   "source": [
    "### Extras:"
   ]
  },
  {
   "cell_type": "code",
   "execution_count": 143,
   "metadata": {
    "colab": {
     "base_uri": "https://localhost:8080/"
    },
    "executionInfo": {
     "elapsed": 142,
     "status": "ok",
     "timestamp": 1665356003322,
     "user": {
      "displayName": "Alireza Fazeli",
      "userId": "13019604121988176443"
     },
     "user_tz": 240
    },
    "id": "GR3eIBhjuI1m",
    "outputId": "a479d08b-83e0-413b-f527-cc00bc06e353"
   },
   "outputs": [
    {
     "name": "stdout",
     "output_type": "stream",
     "text": [
      "Number of folds: 12\n",
      "Scores of folds:\n",
      " [0.341 0.62  0.583 0.786 0.578 0.713 0.72  0.366 0.135 0.413 0.392 0.629]\n",
      "Mean: 0.523\n",
      "Standard deviation: 0.185\n"
     ]
    }
   ],
   "source": [
    "# A good guess for N can be made by taking the size of the whole training set (here, xtrain) and divide\n",
    "# it by the optimal training set size that you interpret from the learning curves:\n",
    "optimal_set_size = 180\n",
    "N = int(xtrain.size/optimal_set_size)\n",
    "\n",
    "scores = cross_val_score(model, xtrain, ytrain, scoring=\"r2\", cv=N)\n",
    "print(\"Number of folds:\", N)\n",
    "print(\"Scores of folds:\\n\", scores.round(3))\n",
    "print(\"Mean:\", scores.mean().round(3))\n",
    "print(\"Standard deviation:\", scores.std().round(3))"
   ]
  },
  {
   "cell_type": "markdown",
   "metadata": {
    "id": "DVm761ECuI1m"
   },
   "source": [
    "And now, you get not only an estimate of the performance of your model, but also a measure of how precise this estimate is i.e., its standard deviation."
   ]
  },
  {
   "cell_type": "markdown",
   "metadata": {
    "id": "PbQPWvUl8O48"
   },
   "source": [
    "## Follow These Steps Before Submitting\n",
    "Once you are finished, ensure to complete the following steps.\n",
    "\n",
    "1.  Restart your kernel by clicking 'Kernel' > 'Restart & Run All'.\n",
    "\n",
    "2.  Fix any errors which result from this.\n",
    "\n",
    "3.  Repeat steps 1. and 2. until your notebook runs without errors.\n",
    "\n",
    "4.  You will submit to OWL only one file, which is your completed notebook (.ipynb file extension)."
   ]
  }
 ],
 "metadata": {
  "colab": {
   "collapsed_sections": [],
   "provenance": []
  },
  "kernelspec": {
   "display_name": "Python 3 (ipykernel)",
   "language": "python",
   "name": "python3"
  },
  "language_info": {
   "codemirror_mode": {
    "name": "ipython",
    "version": 3
   },
   "file_extension": ".py",
   "mimetype": "text/x-python",
   "name": "python",
   "nbconvert_exporter": "python",
   "pygments_lexer": "ipython3",
   "version": "3.9.12"
  },
  "vscode": {
   "interpreter": {
    "hash": "4cf54da1fa2bfaaf765c8cfc6607d65e7d4fad206be9d3aaaa3092ea7752f769"
   }
  }
 },
 "nbformat": 4,
 "nbformat_minor": 1
}
