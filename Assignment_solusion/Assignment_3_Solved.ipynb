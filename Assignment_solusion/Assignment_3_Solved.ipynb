{
 "cells": [
  {
   "cell_type": "markdown",
   "metadata": {
    "id": "8P5Lht8tdQlS"
   },
   "source": [
    "### Follow These Instructions\n",
    "\n",
    "Once you are finished, ensure to complete the following steps.\n",
    "\n",
    "1.  Restart your kernel by clicking 'Kernel' > 'Restart & Run All'.\n",
    "\n",
    "2.  Fix any errors which result from this.\n",
    "\n",
    "3.  Repeat steps 1. and 2. until your notebook runs without errors.\n",
    "\n",
    "4.  Submit your completed notebook to OWL by the deadline."
   ]
  },
  {
   "cell_type": "markdown",
   "metadata": {
    "id": "2QdotToi_tHJ"
   },
   "source": [
    "# Grade: /100 Mark(s)\n",
    "\n",
    "# Assignment 02: Maximum Likelihood\n",
    "\n",
    "\n",
    "### Maximum Likelihood\n",
    "\n",
    "The poisson distribution https://en.wikipedia.org/wiki/Poisson_distribution is a discrete probability distribution often used to describe count-based data, like how many snowflakes fall in a day.\n",
    "\n",
    "If we have count data $y$ that are influenced by a covariate or feature $x$, we can use the maximum likelihood principle to develop a regression model that estimates the mean of $Y$ given $X = x$."
   ]
  },
  {
   "cell_type": "code",
   "execution_count": 2,
   "metadata": {
    "executionInfo": {
     "elapsed": 234,
     "status": "ok",
     "timestamp": 1666021782197,
     "user": {
      "displayName": "Alireza Fazeli",
      "userId": "13019604121988176443"
     },
     "user_tz": 240
    },
    "id": "NJ4h3xAh_tHM"
   },
   "outputs": [],
   "source": [
    "#Packages for this assignment\n",
    "import numpy as np\n",
    "import matplotlib.pyplot as plt\n",
    "import pandas as pd\n",
    "from scipy.optimize import minimize\n",
    "from scipy.special import gammaln\n",
    "from sklearn import linear_model\n",
    "np.random.seed(9653)"
   ]
  },
  {
   "cell_type": "markdown",
   "metadata": {
    "id": "LnEr7OpU_tHO"
   },
   "source": [
    "### Question 1: /10 Marks\n",
    "\n",
    "The negative log likelihood for a Poisson random variable is\n",
    "\n",
    "$$\\ell(\\lambda; \\mathbf{y}) = -\\sum_{i=1}^N\\Bigg(   y_{i}\\cdot \\ln(\\lambda) - \\lambda - \\ln(y_i!) \\Bigg)$$\n",
    "\n",
    "Here, $\\mathbf{y}$ is a vector of counts and $\\lambda$ is a scalar value.\n",
    "\n",
    "Write a function called `poissonNegLogLikelihood` that takes a vector of counts $\\mathbf{y}$ and a parameter $\\lambda$ and returns the negative log likelihood.  The $\\sum_{i} \\ln(y!)$ does not affect the location of the maximum, and so you can omit the $ \\ln(y!)$ in your function.\n",
    "\n",
    "Test your function by calling it with `lam = 1.3` and `y=np.array([2,1,0,0])`.\n",
    "\n",
    "What happens when you call the function when `lam=np.array([1,0.5,1,3])` and  `y=np.array([2,1,0,0])`? \n",
    "\n",
    "Answer the following below in markdown: What happens when you set an element of lam to 0 or a negative number and why? \n"
   ]
  },
  {
   "cell_type": "markdown",
   "metadata": {
    "id": "jUN2NUJy_tHP"
   },
   "source": [
    "#### Written Answer:\n",
    "\n",
    "Answer: A lam of zero gives an error - The likelihood of making an observation when lam = 0 should be zero and the log likelihood -inf. Logarithms not defined for zero and negatives."
   ]
  },
  {
   "cell_type": "code",
   "execution_count": 3,
   "metadata": {
    "colab": {
     "base_uri": "https://localhost:8080/"
    },
    "executionInfo": {
     "elapsed": 256,
     "status": "ok",
     "timestamp": 1666021788910,
     "user": {
      "displayName": "Alireza Fazeli",
      "userId": "13019604121988176443"
     },
     "user_tz": 240
    },
    "id": "qHHr_ZYE_tHQ",
    "outputId": "dc9a205d-237e-4647-b2a1-705368207131"
   },
   "outputs": [
    {
     "data": {
      "text/plain": [
       "4.412907206597527"
      ]
     },
     "execution_count": 3,
     "metadata": {},
     "output_type": "execute_result"
    }
   ],
   "source": [
    "def poissonNegLogLikelihood(lam,y):\n",
    "    \n",
    "    neg_log_lik =  -np.sum(y*np.log(lam)-lam)\n",
    "    # neg_log_lik = -np.sum(y*np.log(lam)-lam-gammaln(y+1))\n",
    "\n",
    "    return neg_log_lik\n",
    "\n",
    "lam=1.3\n",
    "y=np.array([2,1,0,0])\n",
    "poissonNegLogLikelihood(lam,y)"
   ]
  },
  {
   "cell_type": "markdown",
   "metadata": {
    "id": "a2fxRcxl_tHR"
   },
   "source": [
    "### Question 2: /10 Marks\n",
    "\n",
    "Write a function called `poissonRegressionNegLogLikelihood` that takes as arguments a vector $\\mathbf{y}$ of counts, a design matrix $\\mathbf{X}$ of features for each count, and a vector $\\mathbf{\\beta}$ of parameters. The function should return the negative log likelihood of this dataset, assuming that each element of  $\\mathbf{y}$ is independent and Poisson distributed with parameter $\\lambda = \\exp(\\mathbf{X}\\beta)$.\n",
    "\n",
    "Hint: You can use `poissonNegLogLikelihood` in this answer!\n",
    "Test your function by calling it with \n",
    "* `b=np.array([1,2])`\n",
    "* `X=np.array([[1,2,3],[2,3,1]]).T`\n",
    "* `y=np.array([0,2,10])`\n"
   ]
  },
  {
   "cell_type": "code",
   "execution_count": 4,
   "metadata": {
    "colab": {
     "base_uri": "https://localhost:8080/"
    },
    "executionInfo": {
     "elapsed": 543,
     "status": "ok",
     "timestamp": 1666021791505,
     "user": {
      "displayName": "Alireza Fazeli",
      "userId": "13019604121988176443"
     },
     "user_tz": 240
    },
    "id": "6wL6mzui_tHR",
    "outputId": "5a7f650f-e3cd-4ee5-949d-05fdb6d1151e"
   },
   "outputs": [
    {
     "data": {
      "text/plain": [
       "3211.7843052468816"
      ]
     },
     "execution_count": 4,
     "metadata": {},
     "output_type": "execute_result"
    }
   ],
   "source": [
    "def poissonRegressionNegLogLikelihood(b, X, y):\n",
    "    lam = np.exp(X @ b)\n",
    "    # lam is technically a vector here, so why can we pass it to poissonNegLogLikelihood\n",
    "    # when that function was intended to take a scalar?\n",
    "    # The answer is vectorization.  So long as lam and y have the same shape, everything should work as expected\n",
    "    neg_log_lik = poissonNegLogLikelihood(lam, y)\n",
    "    return neg_log_lik\n",
    "\n",
    "b=np.array([1,2])\n",
    "X=np.array([[1,2,3],[2,3,1]]).T\n",
    "y=np.array([0,2,10])\n",
    "poissonRegressionNegLogLikelihood(b, X, y)"
   ]
  },
  {
   "cell_type": "markdown",
   "metadata": {
    "id": "rpjApYro_tHS"
   },
   "source": [
    "### Question 3: /10 Marks\n",
    "\n",
    "a) In `poissonRegressionNegLogLikelihood`, why did we apply the exponential function to $\\mathbf{X}\\beta$?  Hint: Can an exponential ever be negative?\n",
    "\n",
    "b) What might have happened had we just passed $\\lambda = \\mathbf{X}\\beta$?\n",
    "\n",
    "Answer parts a) and b) below in this cell.  Write no more than 2 sentences per answer! \n",
    "\n",
    "---\n",
    "\n",
    "\n",
    "a) The expoential is applied so as to constrain lambda to be positive\n",
    "\n",
    "b) Using a linear function in place of lamba might allow for negative lambda\n"
   ]
  },
  {
   "cell_type": "markdown",
   "metadata": {
    "id": "eG82BDut_tHU"
   },
   "source": [
    "### Question 4: /5 Marks\n",
    "\n",
    "Write a function called `modelPrediction` which accepts as its first argument a vector of coefficents $\\beta$ and a design matrix $\\mathbf{X}$.  The function should return predictions of the form $\\widehat{\\mathbf{y}} = \\exp(\\mathbf{X}\\beta)$. \n",
    "\n",
    "Hint: Numpy implements the exponential using `np.exp`.  \n",
    "\n",
    "Test your function by calling it with \n",
    "* `b=np.array([1,2])`\n",
    "* `X=np.array([[1,2,3],[2,3,1]]).T`"
   ]
  },
  {
   "cell_type": "code",
   "execution_count": 5,
   "metadata": {
    "colab": {
     "base_uri": "https://localhost:8080/"
    },
    "executionInfo": {
     "elapsed": 257,
     "status": "ok",
     "timestamp": 1666021797770,
     "user": {
      "displayName": "Alireza Fazeli",
      "userId": "13019604121988176443"
     },
     "user_tz": 240
    },
    "id": "wyTbMfMD_tHV",
    "outputId": "d51e0f12-6751-41ec-af1c-f50efc56e50f"
   },
   "outputs": [
    {
     "data": {
      "text/plain": [
       "array([ 148.4131591 , 2980.95798704,  148.4131591 ])"
      ]
     },
     "execution_count": 5,
     "metadata": {},
     "output_type": "execute_result"
    }
   ],
   "source": [
    "def modelPrediction(b,X):\n",
    "    yhat = np.exp(X @ b)\n",
    "    return yhat\n",
    "\n",
    "b=np.array([1,2])\n",
    "X=np.array([[1,2,3],[2,3,1]]).T\n",
    "modelPrediction(b,X)"
   ]
  },
  {
   "cell_type": "markdown",
   "metadata": {
    "id": "FHDbW8vQ_tHX"
   },
   "source": [
    "### Question 5: /15 Marks\n",
    "\n",
    "Write a function called `fitModel` which accepts as its first argument argument a design matrix $\\mathbf{X}$ and as its second argument a vector of outcome counts $\\mathbf{y}$. The function should return the maximum likelihood estimates for the coefficients of a Poisson regression of $\\mathbf{y}$ onto $\\mathbf{X}$.\n",
    "\n",
    "Test your function by calling it with \n",
    "* `X=np.array([[1,2,3],[2,3,1]]).T`\n",
    "* `y=np.array([0,2,10])`\n",
    "\n",
    "What is your estimated b? "
   ]
  },
  {
   "cell_type": "code",
   "execution_count": 6,
   "metadata": {
    "colab": {
     "base_uri": "https://localhost:8080/"
    },
    "executionInfo": {
     "elapsed": 236,
     "status": "ok",
     "timestamp": 1666021802093,
     "user": {
      "displayName": "Alireza Fazeli",
      "userId": "13019604121988176443"
     },
     "user_tz": 240
    },
    "id": "aWNpySFG_tHX",
    "outputId": "2d32d82c-20c0-468b-8196-dea7ca86e53a"
   },
   "outputs": [
    {
     "name": "stdout",
     "output_type": "stream",
     "text": [
      "[ 0.94827556 -0.5295352 ]\n"
     ]
    }
   ],
   "source": [
    "def fitModel(X,y):\n",
    "    # Need to give the optimizer a guess of where to start\n",
    "    # Zeros sound good to me\n",
    "    beta_start = np.zeros(X.shape[1])\n",
    "    # When we call the optimizer this time around, we set jac=False (the default) since our objective function\n",
    "    # does not return gradients.  The optimizer will numerically approximate the gradients if we set jac=False\n",
    "    # which can sometimes (but rarely) come back to bite us.\n",
    "    # Luckily, the likelihood is well behaved (or as we say in stats, \"satisfies mild regularity conditions\")\n",
    "    # and so letting the optimizer compute the gradient is just fine.\n",
    "    mle = minimize(poissonRegressionNegLogLikelihood, beta_start, args=(X,y))\n",
    "    # The optimizer stores the coefficients under the .x method\n",
    "    # So call mle.x to get the coefficients\n",
    "    betas = mle.x\n",
    "    return betas\n",
    "\n",
    "X = np.array([[1,2,3],[2,3,1]]).T\n",
    "y = np.array([0,2,10])\n",
    "b = fitModel(X,y)\n",
    "print(b)"
   ]
  },
  {
   "cell_type": "markdown",
   "metadata": {
    "id": "yE29237O_tHX"
   },
   "source": [
    "### Question 6: /15 Mark(s)\n",
    "\n",
    "Load in the data from `poisson_regression_data.csv`. Plot a scatterplot of the data. Fit a poisson regression to this data using the functions you wrote above.  Plot the model predictions over $x \\in [-2,2]$ on the same graph as the scatterplot of the data.  "
   ]
  },
  {
   "cell_type": "code",
   "execution_count": 8,
   "metadata": {
    "colab": {
     "base_uri": "https://localhost:8080/",
     "height": 306
    },
    "executionInfo": {
     "elapsed": 505,
     "status": "ok",
     "timestamp": 1666021873368,
     "user": {
      "displayName": "Alireza Fazeli",
      "userId": "13019604121988176443"
     },
     "user_tz": 240
    },
    "id": "ya0j57AW_tHX",
    "outputId": "31b40bc6-673e-44aa-dac1-565b7d120b4d"
   },
   "outputs": [
    {
     "data": {
      "image/png": "[encoded data removed]",
      "text/plain": [
       "<Figure size 480x320 with 1 Axes>"
      ]
     },
     "metadata": {
      "needs_background": "light"
     },
     "output_type": "display_data"
    }
   ],
   "source": [
    "# Loading in the data.  This is pretty standard\n",
    "df = pd.read_csv('poisson_regression_data.csv')\n",
    "\n",
    "fig, ax = plt.subplots(dpi = 80)\n",
    "# Scatter the data.  Pretty standard\n",
    "df.plot.scatter('x','y', ax = ax, alpha = 0.5)\n",
    "\n",
    "# Fit the model.  You can use your functions.  First step is to construct the design matrix X\n",
    "x = df.x.values \n",
    "# Add intercept\n",
    "X = np.c_[np.ones(x.size), x]\n",
    "\n",
    "# Now, we can find the betas by calling fitModel.  fitModel should optimize the poissonRegressionNegLogLikelihood\n",
    "y= df.y.values\n",
    "betas = fitModel(X,y)\n",
    "\n",
    "# We need to predict on data from -2 to 2.\n",
    "# We need to first create an array of linearly spaced points between -2 and 2\n",
    "# Then, we need to turn that into a design matrix\n",
    "newx = np.linspace(x.min(),x.max(),1001)\n",
    "# Add intercept\n",
    "newX = np.c_[np.ones(newx.size), newx]\n",
    "\n",
    "# We can use the betas we found above to make new predictions\n",
    "# Here is where we use modelPrediction\n",
    "y_predicted = modelPrediction(betas,newX)\n",
    "\n",
    "#Finally, plot the predictions on the same axis and color the predictions red\n",
    "ax.plot(newx,y_predicted,color = 'red')\n",
    "plt.show()"
   ]
  },
  {
   "cell_type": "markdown",
   "metadata": {
    "id": "6uXm7Rg4_tHY"
   },
   "source": [
    "### Question 7: /20 Mark(s)\n",
    "We wish to do an experiment to determine if ants search for food using a random search or directed search method. To help design the experiment we first will run some simulations. In the experiment, ants are placed inside a 50 mm $\\times$ 50 mm box. They cannot climb the wall, but can escape through an opening of size 5 mm in the wall. Repeated measurements of how far an ant travels in 1 second show an average speed of 2 mm per second. Our simulation needs to determine the probability that an ant escapes the box in 600 seconds (hint: so your main iteration would look like `for t in range(600):`) if their motion is indeed random. Assume the ant is always initially placed in the center of the box and simulate a simple random walk in 2D on discrete time in this fashion: Have the ant live on a discrete lattice. The ant takes 2 mm to the left if a random number $u$ satisfies $u < 0.25$. The ant moves 2 mm to the right if $0.25 \\leq u < 0.5$, the ant moves 2 mm up if $0.5 \\leq u < 0.75$, and 2 mm down if $0.75 \\leq u \\leq 1.0$. $u$ is distributed uniformly between 0 and 1 (hint: use `np.random.uniform(low=0, high=1)` to generate it). If a step would take the ant into a wall, repeat the step until it is successful (result is still one time-step). With `attempts = np.linspace(10, 1000, 19)`, run your main iteration under the loop `for M in attempts:` and construct a dataframe with columns for number of attempts (i.e. `M`), number of escapes, and probability of escape for every `M`. Your dataframe would eventually look something like this with 19 rows and real values:\n",
    "\n",
    "attempts | escapes| probability\n",
    "---|---|---\n",
    "10|x1|y1\n",
    "65|x2|y2\n",
    "...|...|...\n",
    "1000|x19|y19"
   ]
  },
  {
   "cell_type": "code",
   "execution_count": 9,
   "metadata": {
    "colab": {
     "base_uri": "https://localhost:8080/",
     "height": 645
    },
    "executionInfo": {
     "elapsed": 29530,
     "status": "ok",
     "timestamp": 1666021937861,
     "user": {
      "displayName": "Alireza Fazeli",
      "userId": "13019604121988176443"
     },
     "user_tz": 240
    },
    "id": "KGxWgyJ9_tHY",
    "outputId": "58568033-9079-446f-b5f9-bf4049b874a5"
   },
   "outputs": [
    {
     "data": {
      "text/html": [
       "\n",
       "  <div id=\"df-71bc8509-d467-4b77-8828-c1b0a6c1136c\">\n",
       "    <div class=\"colab-df-container\">\n",
       "      <div>\n",
       "<style scoped>\n",
       "    .dataframe tbody tr th:only-of-type {\n",
       "        vertical-align: middle;\n",
       "    }\n",
       "\n",
       "    .dataframe tbody tr th {\n",
       "        vertical-align: top;\n",
       "    }\n",
       "\n",
       "    .dataframe thead th {\n",
       "        text-align: right;\n",
       "    }\n",
       "</style>\n",
       "<table border=\"1\" class=\"dataframe\">\n",
       "  <thead>\n",
       "    <tr style=\"text-align: right;\">\n",
       "      <th></th>\n",
       "      <th>attempts</th>\n",
       "      <th>escapes</th>\n",
       "      <th>probability</th>\n",
       "    </tr>\n",
       "  </thead>\n",
       "  <tbody>\n",
       "    <tr>\n",
       "      <th>0</th>\n",
       "      <td>10.0</td>\n",
       "      <td>4.0</td>\n",
       "      <td>0.400000</td>\n",
       "    </tr>\n",
       "    <tr>\n",
       "      <th>1</th>\n",
       "      <td>65.0</td>\n",
       "      <td>21.0</td>\n",
       "      <td>0.323077</td>\n",
       "    </tr>\n",
       "    <tr>\n",
       "      <th>2</th>\n",
       "      <td>120.0</td>\n",
       "      <td>35.0</td>\n",
       "      <td>0.291667</td>\n",
       "    </tr>\n",
       "    <tr>\n",
       "      <th>3</th>\n",
       "      <td>175.0</td>\n",
       "      <td>50.0</td>\n",
       "      <td>0.285714</td>\n",
       "    </tr>\n",
       "    <tr>\n",
       "      <th>4</th>\n",
       "      <td>230.0</td>\n",
       "      <td>54.0</td>\n",
       "      <td>0.234783</td>\n",
       "    </tr>\n",
       "    <tr>\n",
       "      <th>5</th>\n",
       "      <td>285.0</td>\n",
       "      <td>91.0</td>\n",
       "      <td>0.319298</td>\n",
       "    </tr>\n",
       "    <tr>\n",
       "      <th>6</th>\n",
       "      <td>340.0</td>\n",
       "      <td>92.0</td>\n",
       "      <td>0.270588</td>\n",
       "    </tr>\n",
       "    <tr>\n",
       "      <th>7</th>\n",
       "      <td>395.0</td>\n",
       "      <td>121.0</td>\n",
       "      <td>0.306329</td>\n",
       "    </tr>\n",
       "    <tr>\n",
       "      <th>8</th>\n",
       "      <td>450.0</td>\n",
       "      <td>113.0</td>\n",
       "      <td>0.251111</td>\n",
       "    </tr>\n",
       "    <tr>\n",
       "      <th>9</th>\n",
       "      <td>505.0</td>\n",
       "      <td>141.0</td>\n",
       "      <td>0.279208</td>\n",
       "    </tr>\n",
       "    <tr>\n",
       "      <th>10</th>\n",
       "      <td>560.0</td>\n",
       "      <td>129.0</td>\n",
       "      <td>0.230357</td>\n",
       "    </tr>\n",
       "    <tr>\n",
       "      <th>11</th>\n",
       "      <td>615.0</td>\n",
       "      <td>171.0</td>\n",
       "      <td>0.278049</td>\n",
       "    </tr>\n",
       "    <tr>\n",
       "      <th>12</th>\n",
       "      <td>670.0</td>\n",
       "      <td>188.0</td>\n",
       "      <td>0.280597</td>\n",
       "    </tr>\n",
       "    <tr>\n",
       "      <th>13</th>\n",
       "      <td>725.0</td>\n",
       "      <td>166.0</td>\n",
       "      <td>0.228966</td>\n",
       "    </tr>\n",
       "    <tr>\n",
       "      <th>14</th>\n",
       "      <td>780.0</td>\n",
       "      <td>179.0</td>\n",
       "      <td>0.229487</td>\n",
       "    </tr>\n",
       "    <tr>\n",
       "      <th>15</th>\n",
       "      <td>835.0</td>\n",
       "      <td>199.0</td>\n",
       "      <td>0.238323</td>\n",
       "    </tr>\n",
       "    <tr>\n",
       "      <th>16</th>\n",
       "      <td>890.0</td>\n",
       "      <td>241.0</td>\n",
       "      <td>0.270787</td>\n",
       "    </tr>\n",
       "    <tr>\n",
       "      <th>17</th>\n",
       "      <td>945.0</td>\n",
       "      <td>232.0</td>\n",
       "      <td>0.245503</td>\n",
       "    </tr>\n",
       "    <tr>\n",
       "      <th>18</th>\n",
       "      <td>1000.0</td>\n",
       "      <td>282.0</td>\n",
       "      <td>0.282000</td>\n",
       "    </tr>\n",
       "  </tbody>\n",
       "</table>\n",
       "</div>\n",
       "      <button class=\"colab-df-convert\" onclick=\"convertToInteractive('df-71bc8509-d467-4b77-8828-c1b0a6c1136c')\"\n",
       "              title=\"Convert this dataframe to an interactive table.\"\n",
       "              style=\"display:none;\">\n",
       "        \n",
       "  <svg xmlns=\"http://www.w3.org/2000/svg\" height=\"24px\"viewBox=\"0 0 24 24\"\n",
       "       width=\"24px\">\n",
       "    <path d=\"M0 0h24v24H0V0z\" fill=\"none\"/>\n",
       "    <path d=\"M18.56 5.44l.94 2.06.94-2.06 2.06-.94-2.06-.94-.94-2.06-.94 2.06-2.06.94zm-11 1L8.5 8.5l.94-2.06 2.06-.94-2.06-.94L8.5 2.5l-.94 2.06-2.06.94zm10 10l.94 2.06.94-2.06 2.06-.94-2.06-.94-.94-2.06-.94 2.06-2.06.94z\"/><path d=\"M17.41 7.96l-1.37-1.37c-.4-.4-.92-.59-1.43-.59-.52 0-1.04.2-1.43.59L10.3 9.45l-7.72 7.72c-.78.78-.78 2.05 0 2.83L4 21.41c.39.39.9.59 1.41.59.51 0 1.02-.2 1.41-.59l7.78-7.78 2.81-2.81c.8-.78.8-2.07 0-2.86zM5.41 20L4 18.59l7.72-7.72 1.47 1.35L5.41 20z\"/>\n",
       "  </svg>\n",
       "      </button>\n",
       "      \n",
       "  <style>\n",
       "    .colab-df-container {\n",
       "      display:flex;\n",
       "      flex-wrap:wrap;\n",
       "      gap: 12px;\n",
       "    }\n",
       "\n",
       "    .colab-df-convert {\n",
       "      background-color: #E8F0FE;\n",
       "      border: none;\n",
       "      border-radius: 50%;\n",
       "      cursor: pointer;\n",
       "      display: none;\n",
       "      fill: #1967D2;\n",
       "      height: 32px;\n",
       "      padding: 0 0 0 0;\n",
       "      width: 32px;\n",
       "    }\n",
       "\n",
       "    .colab-df-convert:hover {\n",
       "      background-color: #E2EBFA;\n",
       "      box-shadow: 0px 1px 2px rgba(60, 64, 67, 0.3), 0px 1px 3px 1px rgba(60, 64, 67, 0.15);\n",
       "      fill: #174EA6;\n",
       "    }\n",
       "\n",
       "    [theme=dark] .colab-df-convert {\n",
       "      background-color: #3B4455;\n",
       "      fill: #D2E3FC;\n",
       "    }\n",
       "\n",
       "    [theme=dark] .colab-df-convert:hover {\n",
       "      background-color: #434B5C;\n",
       "      box-shadow: 0px 1px 3px 1px rgba(0, 0, 0, 0.15);\n",
       "      filter: drop-shadow(0px 1px 2px rgba(0, 0, 0, 0.3));\n",
       "      fill: #FFFFFF;\n",
       "    }\n",
       "  </style>\n",
       "\n",
       "      <script>\n",
       "        const buttonEl =\n",
       "          document.querySelector('#df-71bc8509-d467-4b77-8828-c1b0a6c1136c button.colab-df-convert');\n",
       "        buttonEl.style.display =\n",
       "          google.colab.kernel.accessAllowed ? 'block' : 'none';\n",
       "\n",
       "        async function convertToInteractive(key) {\n",
       "          const element = document.querySelector('#df-71bc8509-d467-4b77-8828-c1b0a6c1136c');\n",
       "          const dataTable =\n",
       "            await google.colab.kernel.invokeFunction('convertToInteractive',\n",
       "                                                     [key], {});\n",
       "          if (!dataTable) return;\n",
       "\n",
       "          const docLinkHtml = 'Like what you see? Visit the ' +\n",
       "            '<a target=\"_blank\" href=https://colab.research.google.com/notebooks/data_table.ipynb>data table notebook</a>'\n",
       "            + ' to learn more about interactive tables.';\n",
       "          element.innerHTML = '';\n",
       "          dataTable['output_type'] = 'display_data';\n",
       "          await google.colab.output.renderOutput(dataTable, element);\n",
       "          const docLink = document.createElement('div');\n",
       "          docLink.innerHTML = docLinkHtml;\n",
       "          element.appendChild(docLink);\n",
       "        }\n",
       "      </script>\n",
       "    </div>\n",
       "  </div>\n",
       "  "
      ],
      "text/plain": [
       "    attempts  escapes  probability\n",
       "0       10.0      4.0     0.400000\n",
       "1       65.0     21.0     0.323077\n",
       "2      120.0     35.0     0.291667\n",
       "3      175.0     50.0     0.285714\n",
       "4      230.0     54.0     0.234783\n",
       "5      285.0     91.0     0.319298\n",
       "6      340.0     92.0     0.270588\n",
       "7      395.0    121.0     0.306329\n",
       "8      450.0    113.0     0.251111\n",
       "9      505.0    141.0     0.279208\n",
       "10     560.0    129.0     0.230357\n",
       "11     615.0    171.0     0.278049\n",
       "12     670.0    188.0     0.280597\n",
       "13     725.0    166.0     0.228966\n",
       "14     780.0    179.0     0.229487\n",
       "15     835.0    199.0     0.238323\n",
       "16     890.0    241.0     0.270787\n",
       "17     945.0    232.0     0.245503\n",
       "18    1000.0    282.0     0.282000"
      ]
     },
     "execution_count": 9,
     "metadata": {},
     "output_type": "execute_result"
    }
   ],
   "source": [
    "attempts = np.linspace(10, 1000, 19)\n",
    "\n",
    "x    = 50       # box size in x-direction\n",
    "y    = 50       # box size in y-direction\n",
    "time = 600      # in seconds\n",
    "\n",
    "# coordinate of one arbitrary opening of size 5 mm\n",
    "x_open = [25, 30]\n",
    "y_open = y-1\n",
    "\n",
    "# distance in millimeters that the ant travels per second\n",
    "delta  = 2   \n",
    "\n",
    "number_of_attempts = np.zeros([0])\n",
    "number_of_escapes = np.zeros([0])\n",
    "\n",
    "for M in attempts:\n",
    "\n",
    "    escape = 0\n",
    "    for trial in range(int(M)):\n",
    "\n",
    "        # initialize X and Y coordinates for the ant\n",
    "        X = np.zeros([time])\n",
    "        Y = np.zeros([time])\n",
    "\n",
    "        # ant's initial location\n",
    "        x_ant = x/2\n",
    "        y_ant = y/2\n",
    "\n",
    "        i = -1\n",
    "        ## Main loop:\n",
    "        for t in range(time):\n",
    "            u = np.random.uniform(low=0.0, high=1.0) # generates uniform random number\n",
    "\n",
    "            # in case you are interested to examine normal random distribution:\n",
    "            # u = abs(np.random.normal()) # generates absolute normal random number\n",
    "\n",
    "            if ( u < 0.25 ):\n",
    "                x_ant = x_ant - delta  \n",
    "            if ( u >= 0.25 ) & ( u < 0.5 ):\n",
    "                x_ant = x_ant + delta\n",
    "            if ( u >= 0.5 )  & ( u < 0.75 ):\n",
    "                y_ant = y_ant + delta\n",
    "            if ( u >= 0.75 ) & ( u <= 1 ):\n",
    "                y_ant = y_ant - delta\n",
    "\n",
    "            if (x_ant > 0) & (x_ant < x) & (y_ant > 0) & (y_ant < y):\n",
    "                i += 1\n",
    "                X[i] = x_ant\n",
    "                Y[i] = y_ant\n",
    "                x_ant_pre = x_ant\n",
    "                y_ant_pre = y_ant\n",
    "            else:\n",
    "                # if a wall is hit keep producing random numbers\n",
    "                # till a new coordinate fall inside the box:\n",
    "                while (x_ant <= 0) | (x_ant >= x) | (y_ant <= 0) | (y_ant >= y):\n",
    "                    u = np.random.uniform(low=0.0, high=1.0) # generates uniform random number\n",
    "\n",
    "                    # in case you are interested to examine normal random distribution:\n",
    "                    # u = abs(np.random.normal()) # generates absolute normal random number\n",
    "                    \n",
    "                    if ( u < 0.25 ):\n",
    "                        x_ant = x_ant_pre - delta\n",
    "                    if ( u >= 0.25 ) & ( u < 0.5 ):\n",
    "                        x_ant = x_ant_pre + delta\n",
    "                    if ( u >= 0.5 ) & ( u < 0.75 ):\n",
    "                        y_ant = y_ant_pre + delta\n",
    "                    if ( u >= 0.75 ) & ( u <= 1 ):\n",
    "                        y_ant = y_ant_pre - delta\n",
    "\n",
    "                i += 1\n",
    "                X[i] = x_ant\n",
    "                Y[i] = y_ant\n",
    "\n",
    "            # check if the ant escapes through the opening\n",
    "            if (X[i] >= x_open[0]) & (X[i] <= x_open[-1]) & (Y[i] == y_open):\n",
    "                escape += 1\n",
    "                X_plot = X; Y_plot = Y # storing the last escape event for visualization in the next cell\n",
    "                break\n",
    "            ## End of main loop.\n",
    "        ## End of trial loop.\n",
    "             \n",
    "    number_of_attempts = np.append(number_of_attempts, np.array([M]))\n",
    "    number_of_escapes = np.append(number_of_escapes, np.array([int(escape)]))\n",
    "    ## End of outer loop.\n",
    "\n",
    "df_attempts = pd.DataFrame({\"attempts\": pd.Series(number_of_attempts)})\n",
    "df_escapes = pd.DataFrame({\"escapes\": pd.Series(number_of_escapes)})\n",
    "df_probability = pd.DataFrame({\"probability\": pd.Series(np.divide(number_of_escapes,number_of_attempts))})\n",
    "\n",
    "ant = pd.concat([df_attempts, df_escapes, df_probability], axis=1)\n",
    "ant.head(20)"
   ]
  },
  {
   "cell_type": "code",
   "execution_count": 10,
   "metadata": {
    "colab": {
     "base_uri": "https://localhost:8080/",
     "height": 287
    },
    "executionInfo": {
     "elapsed": 614,
     "status": "ok",
     "timestamp": 1666021955282,
     "user": {
      "displayName": "Alireza Fazeli",
      "userId": "13019604121988176443"
     },
     "user_tz": 240
    },
    "id": "YY-ymQQMdNy9",
    "outputId": "15a7a2c9-9d2b-4b5c-9675-1443441000d2"
   },
   "outputs": [
    {
     "data": {
      "image/png": "[encoded data removed]",
      "text/plain": [
       "<Figure size 360x288 with 1 Axes>"
      ]
     },
     "metadata": {
      "needs_background": "light"
     },
     "output_type": "display_data"
    }
   ],
   "source": [
    "# Let's visualize the last escape event\n",
    "from pylab import rcParams\n",
    "rcParams['figure.figsize'] = 5,4\n",
    "plt.figure()\n",
    "X_plot[ X_plot==0 ] = np.nan\n",
    "Y_plot[ Y_plot==0 ] = np.nan\n",
    "plt.scatter(X_plot[0], Y_plot[0], c='red', label=\"Ant Start Point\")\n",
    "plt.plot(X_plot,Y_plot, c='b', label=\"Ant Trajectory\")\n",
    "plt.plot(x_open, [y_open,y_open], 'red', label=\"Opening\")\n",
    "plt.xlabel(\"X$_{Ant}$\")\n",
    "plt.ylabel(\"Y$_{Ant}$\")\n",
    "plt.xlim([0,x])\n",
    "plt.ylim([0,y])\n",
    "plt.legend(loc=\"lower right\")\n",
    "plt.show() "
   ]
  },
  {
   "cell_type": "markdown",
   "metadata": {
    "id": "MQ6lK8SL_tHZ"
   },
   "source": [
    "### Question 8: /5 Mark(s)\n",
    "Explore the dataframe created in the previous step. Do you see any trend in probability? What value for probability would you report if you are asked what is the probability of the escape event? "
   ]
  },
  {
   "cell_type": "code",
   "execution_count": 25,
   "metadata": {
    "colab": {
     "base_uri": "https://localhost:8080/",
     "height": 345
    },
    "executionInfo": {
     "elapsed": 364,
     "status": "ok",
     "timestamp": 1666022382791,
     "user": {
      "displayName": "Alireza Fazeli",
      "userId": "13019604121988176443"
     },
     "user_tz": 240
    },
    "id": "Hx7GojYb_tHZ",
    "outputId": "9d93b543-532d-4142-9a43-6011bd486669"
   },
   "outputs": [
    {
     "name": "stdout",
     "output_type": "stream",
     "text": [
      "Probability of escape event is about 25.3%.\n",
      "\n"
     ]
    },
    {
     "data": {
      "image/png": "[encoded data removed]",
      "text/plain": [
       "<Figure size 400x320 with 1 Axes>"
      ]
     },
     "metadata": {
      "needs_background": "light"
     },
     "output_type": "display_data"
    }
   ],
   "source": [
    "fig, ax = plt.subplots(dpi = 80)\n",
    "ant.plot.line('attempts','probability', ax = ax, alpha = 0.5, c='orange')\n",
    "ax.set_ylim([0,1])\n",
    "print(\"Probability of escape event is about {}%.\\n\".format((ant.probability.tail(5).mean()*100).round(1)))"
   ]
  },
  {
   "cell_type": "markdown",
   "metadata": {
    "id": "_uprCzLS_tHa"
   },
   "source": [
    "#### Written Answer:\n",
    "As the number of attempts goes up the probability converges to a value around 0.26, which is the value to report for the probability of the escape event."
   ]
  },
  {
   "cell_type": "markdown",
   "metadata": {
    "id": "YwkVFKoC_tHa"
   },
   "source": [
    "### Question 9: /10 Mark(s)\n",
    "Now scatter plot `attempts` versus `escapes` and use what you have learned so far to apply linear regression (ordinary least squares) to the data, and plot the predictions over the same range. Report your fit coefficients and compare them against your answer to the previous question and report what you witness and explain why?"
   ]
  },
  {
   "cell_type": "code",
   "execution_count": 21,
   "metadata": {
    "colab": {
     "base_uri": "https://localhost:8080/",
     "height": 323
    },
    "executionInfo": {
     "elapsed": 741,
     "status": "ok",
     "timestamp": 1666022260787,
     "user": {
      "displayName": "Alireza Fazeli",
      "userId": "13019604121988176443"
     },
     "user_tz": 240
    },
    "id": "fOOEiBeC_tHa",
    "outputId": "f819355b-de9c-4b54-e3fd-2abc4b236311"
   },
   "outputs": [
    {
     "name": "stdout",
     "output_type": "stream",
     "text": [
      "[0.25]\n"
     ]
    },
    {
     "data": {
      "image/png": "[encoded data removed]",
      "text/plain": [
       "<Figure size 400x320 with 1 Axes>"
      ]
     },
     "metadata": {
      "needs_background": "light"
     },
     "output_type": "display_data"
    }
   ],
   "source": [
    "fig, ax = plt.subplots(dpi = 80)\n",
    "ant.plot.scatter('attempts','escapes', ax = ax, alpha = 0.5, label='Data Points')\n",
    "\n",
    "x = ant.attempts.values\n",
    "X =x.reshape(-1,1)\n",
    "y = ant.escapes.values\n",
    "\n",
    "ols_fit = linear_model.LinearRegression().fit(X, y)\n",
    "print(ols_fit.coef_.round(2))\n",
    "\n",
    "newx = np.linspace(x.min(),x.max(),1001)\n",
    "newX = newx.reshape(-1,1)\n",
    "y_predicted_ols = ols_fit.predict(newX)\n",
    "\n",
    "ax.plot(newx, y_predicted_ols, color = 'red', label='Fit')\n",
    "plt.legend()\n",
    "plt.show()"
   ]
  },
  {
   "cell_type": "markdown",
   "metadata": {
    "id": "uk9JQEBN_tHa"
   },
   "source": [
    "#### Written Answer:\n",
    "Y-intercept is zero which makes sense because you do not expect to see any escape without any attempt made. The other coefficient (slope i.e., $\\Delta escapes \\div \\Delta attempts$) is the same as the probability of escape event, this makes sense because we are witnessing a linear relationship between escapes and attempts, and probability remains the same as the number of attempts goes to infinity."
   ]
  },
  {
   "cell_type": "markdown",
   "metadata": {
    "id": "o_O7xSzq_tHb"
   },
   "source": [
    "### Follow These Instructions\n",
    "\n",
    "Once you are finished, ensure to complete the following steps.\n",
    "\n",
    "1.  Restart your kernel by clicking 'Kernel' > 'Restart & Run All'.\n",
    "\n",
    "2.  Fix any errors which result from this.\n",
    "\n",
    "3.  Repeat steps 1. and 2. until your notebook runs without errors.\n",
    "\n",
    "4.  Submit your completed notebook to OWL by the deadline."
   ]
  }
 ],
 "metadata": {
  "colab": {
   "collapsed_sections": [],
   "provenance": []
  },
  "kernelspec": {
   "display_name": "Python 3 (ipykernel)",
   "language": "python",
   "name": "python3"
  },
  "language_info": {
   "codemirror_mode": {
    "name": "ipython",
    "version": 3
   },
   "file_extension": ".py",
   "mimetype": "text/x-python",
   "name": "python",
   "nbconvert_exporter": "python",
   "pygments_lexer": "ipython3",
   "version": "3.9.12"
  },
  "vscode": {
   "interpreter": {
    "hash": "3420a8792bbc8a921cecec9f5e200567f9d5b83365a03086ee32a665b051d9eb"
   }
  }
 },
 "nbformat": 4,
 "nbformat_minor": 1
}
