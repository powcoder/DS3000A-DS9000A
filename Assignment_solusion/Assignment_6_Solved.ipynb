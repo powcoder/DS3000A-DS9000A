{
 "cells": [
  {
   "cell_type": "markdown",
   "metadata": {
    "id": "HnQsGV5B0r7L"
   },
   "source": [
    "# Follow these instructions:\n",
    "\n",
    "Once you are finished, ensure to complete the following steps.\n",
    "\n",
    "1.  Restart your kernel by clicking 'Kernel' > 'Restart & Run All'.\n",
    "\n",
    "2.  Fix any errors which result from this.\n",
    "\n",
    "3.  Repeat steps 1. and 2. until your notebook runs without errors.\n",
    "\n",
    "4.  Submit your completed notebook to OWL by the deadline."
   ]
  },
  {
   "cell_type": "markdown",
   "metadata": {
    "id": "NiSA0UDt0r7O"
   },
   "source": [
    "# Assignment 6: Model Selection and Cross-validation [ __ /100 marks]\n",
    "\n",
    "\n",
    "In this assignment we will examine [\"Forest Fires\"](https://archive.ics.uci.edu/ml/datasets/Forest+Fires) dataset to predict the burned area of forest fires giving some features. We will apply model selection and cross-validation method we learned."
   ]
  },
  {
   "cell_type": "code",
   "execution_count": null,
   "metadata": {
    "id": "RD-EVbyB0r7Q"
   },
   "outputs": [],
   "source": [
    "import pandas as pd\n",
    "import numpy as np\n",
    "import matplotlib.pyplot as plt\n",
    "import seaborn as sns\n",
    "from sklearn.model_selection import train_test_split, cross_val_score\n",
    "from sklearn.linear_model import LinearRegression\n",
    "from sklearn.pipeline import Pipeline\n",
    "from sklearn.preprocessing import StandardScaler, PolynomialFeatures\n",
    "from sklearn.metrics import make_scorer\n",
    "from sklearn.base import BaseEstimator, TransformerMixin\n",
    "np.set_printoptions(precision=3)\n",
    "seed=0"
   ]
  },
  {
   "cell_type": "markdown",
   "metadata": {
    "id": "v9GCqeN90r7S"
   },
   "source": [
    "## Question 1.0 [ _ /6 marks]\n",
    "\n",
    "Read the file `forestfires.csv` into a dataframe. Display the first 5 rows of this dataframe. "
   ]
  },
  {
   "cell_type": "code",
   "execution_count": null,
   "metadata": {
    "id": "loQqAmQ20r7T",
    "outputId": "1e18cb6d-9d42-42a4-85bf-1391c54a035e"
   },
   "outputs": [
    {
     "data": {
      "text/html": [
       "<div>\n",
       "<style scoped>\n",
       "    .dataframe tbody tr th:only-of-type {\n",
       "        vertical-align: middle;\n",
       "    }\n",
       "\n",
       "    .dataframe tbody tr th {\n",
       "        vertical-align: top;\n",
       "    }\n",
       "\n",
       "    .dataframe thead th {\n",
       "        text-align: right;\n",
       "    }\n",
       "</style>\n",
       "<table border=\"1\" class=\"dataframe\">\n",
       "  <thead>\n",
       "    <tr style=\"text-align: right;\">\n",
       "      <th></th>\n",
       "      <th>X</th>\n",
       "      <th>Y</th>\n",
       "      <th>month</th>\n",
       "      <th>day</th>\n",
       "      <th>FFMC</th>\n",
       "      <th>DMC</th>\n",
       "      <th>DC</th>\n",
       "      <th>ISI</th>\n",
       "      <th>temp</th>\n",
       "      <th>RH</th>\n",
       "      <th>wind</th>\n",
       "      <th>rain</th>\n",
       "      <th>area</th>\n",
       "    </tr>\n",
       "  </thead>\n",
       "  <tbody>\n",
       "    <tr>\n",
       "      <th>0</th>\n",
       "      <td>7</td>\n",
       "      <td>5</td>\n",
       "      <td>mar</td>\n",
       "      <td>fri</td>\n",
       "      <td>86.2</td>\n",
       "      <td>26.2</td>\n",
       "      <td>94.3</td>\n",
       "      <td>5.1</td>\n",
       "      <td>8.2</td>\n",
       "      <td>51</td>\n",
       "      <td>6.7</td>\n",
       "      <td>0.0</td>\n",
       "      <td>0.0</td>\n",
       "    </tr>\n",
       "    <tr>\n",
       "      <th>1</th>\n",
       "      <td>7</td>\n",
       "      <td>4</td>\n",
       "      <td>oct</td>\n",
       "      <td>tue</td>\n",
       "      <td>90.6</td>\n",
       "      <td>35.4</td>\n",
       "      <td>669.1</td>\n",
       "      <td>6.7</td>\n",
       "      <td>18.0</td>\n",
       "      <td>33</td>\n",
       "      <td>0.9</td>\n",
       "      <td>0.0</td>\n",
       "      <td>0.0</td>\n",
       "    </tr>\n",
       "    <tr>\n",
       "      <th>2</th>\n",
       "      <td>7</td>\n",
       "      <td>4</td>\n",
       "      <td>oct</td>\n",
       "      <td>sat</td>\n",
       "      <td>90.6</td>\n",
       "      <td>43.7</td>\n",
       "      <td>686.9</td>\n",
       "      <td>6.7</td>\n",
       "      <td>14.6</td>\n",
       "      <td>33</td>\n",
       "      <td>1.3</td>\n",
       "      <td>0.0</td>\n",
       "      <td>0.0</td>\n",
       "    </tr>\n",
       "    <tr>\n",
       "      <th>3</th>\n",
       "      <td>8</td>\n",
       "      <td>6</td>\n",
       "      <td>mar</td>\n",
       "      <td>fri</td>\n",
       "      <td>91.7</td>\n",
       "      <td>33.3</td>\n",
       "      <td>77.5</td>\n",
       "      <td>9.0</td>\n",
       "      <td>8.3</td>\n",
       "      <td>97</td>\n",
       "      <td>4.0</td>\n",
       "      <td>0.2</td>\n",
       "      <td>0.0</td>\n",
       "    </tr>\n",
       "    <tr>\n",
       "      <th>4</th>\n",
       "      <td>8</td>\n",
       "      <td>6</td>\n",
       "      <td>mar</td>\n",
       "      <td>sun</td>\n",
       "      <td>89.3</td>\n",
       "      <td>51.3</td>\n",
       "      <td>102.2</td>\n",
       "      <td>9.6</td>\n",
       "      <td>11.4</td>\n",
       "      <td>99</td>\n",
       "      <td>1.8</td>\n",
       "      <td>0.0</td>\n",
       "      <td>0.0</td>\n",
       "    </tr>\n",
       "  </tbody>\n",
       "</table>\n",
       "</div>"
      ],
      "text/plain": [
       "   X  Y month  day  FFMC   DMC     DC  ISI  temp  RH  wind  rain  area\n",
       "0  7  5   mar  fri  86.2  26.2   94.3  5.1   8.2  51   6.7   0.0   0.0\n",
       "1  7  4   oct  tue  90.6  35.4  669.1  6.7  18.0  33   0.9   0.0   0.0\n",
       "2  7  4   oct  sat  90.6  43.7  686.9  6.7  14.6  33   1.3   0.0   0.0\n",
       "3  8  6   mar  fri  91.7  33.3   77.5  9.0   8.3  97   4.0   0.2   0.0\n",
       "4  8  6   mar  sun  89.3  51.3  102.2  9.6  11.4  99   1.8   0.0   0.0"
      ]
     },
     "execution_count": 77,
     "metadata": {},
     "output_type": "execute_result"
    }
   ],
   "source": [
    "# Read forestfires.csv into a dataframe [ /1 marks] \n",
    "# ****** your code here ****** \n",
    "df = pd.read_csv(\"forestfires.csv\")\n",
    "\n",
    "# Display the first 5 rows of the dataframe [ /1 marks]\n",
    "# ****** your code here ****** \n",
    "df.head()"
   ]
  },
  {
   "cell_type": "code",
   "execution_count": null,
   "metadata": {
    "id": "5KKkJuLj0r7U",
    "outputId": "1b4f4a21-8c40-442c-cc70-dde10cf0a488"
   },
   "outputs": [
    {
     "name": "stdout",
     "output_type": "stream",
     "text": [
      "<class 'pandas.core.frame.DataFrame'>\n",
      "RangeIndex: 517 entries, 0 to 516\n",
      "Data columns (total 13 columns):\n",
      " #   Column  Non-Null Count  Dtype  \n",
      "---  ------  --------------  -----  \n",
      " 0   X       517 non-null    int64  \n",
      " 1   Y       517 non-null    int64  \n",
      " 2   month   517 non-null    object \n",
      " 3   day     517 non-null    object \n",
      " 4   FFMC    517 non-null    float64\n",
      " 5   DMC     517 non-null    float64\n",
      " 6   DC      517 non-null    float64\n",
      " 7   ISI     517 non-null    float64\n",
      " 8   temp    517 non-null    float64\n",
      " 9   RH      517 non-null    int64  \n",
      " 10  wind    517 non-null    float64\n",
      " 11  rain    517 non-null    float64\n",
      " 12  area    517 non-null    float64\n",
      "dtypes: float64(8), int64(3), object(2)\n",
      "memory usage: 52.6+ KB\n"
     ]
    }
   ],
   "source": [
    "# Inspect the data types of the attributes in the dataframe and answer the question in the next cell\n",
    "# ****** your code here ****** \n",
    "df.info()"
   ]
  },
  {
   "cell_type": "markdown",
   "metadata": {
    "id": "U6o--Heh0r7V"
   },
   "source": [
    " **Questions**:\n",
    " 1. How many rows are there?  [ /1 marks]\n",
    " 2. Does the data consist of any null entries? [ /1 marks]\n",
    " 3. What categorical attributes do you see? [ /2 marks]\n",
    " \n",
    "**Your answer**:\n",
    "1. 517\n",
    "2. No\n",
    "3. `day` and `month` "
   ]
  },
  {
   "cell_type": "markdown",
   "metadata": {
    "id": "_VsnE9Xo0r7W"
   },
   "source": [
    "## Question 1.1 [ _ /15 marks]\n",
    "\n",
    "Using the threshold of statistical significance for linear regression, check statistical significance of the labels of each categorical attribute. Group insignificant labels into two new statistically significant labels."
   ]
  },
  {
   "cell_type": "code",
   "execution_count": null,
   "metadata": {
    "id": "QYu-pt8d0r7X",
    "outputId": "c7fb6575-c0a9-406b-d911-0c82e44a7c77"
   },
   "outputs": [
    {
     "data": {
      "text/plain": [
       "sun    False\n",
       "fri    False\n",
       "sat    False\n",
       "mon    False\n",
       "tue    False\n",
       "thu    False\n",
       "wed    False\n",
       "Name: day, dtype: bool"
      ]
     },
     "execution_count": 79,
     "metadata": {},
     "output_type": "execute_result"
    }
   ],
   "source": [
    "# check statistical significance of the labels in categorical attribute 1. [ /3 marks]\n",
    "# ****** your code here ******\n",
    "\n",
    "((df.day.value_counts()/df.day.value_counts().sum())*100) < 5\n",
    "# we are good with this category"
   ]
  },
  {
   "cell_type": "code",
   "execution_count": null,
   "metadata": {
    "id": "m8ijI83Q0r7Y",
    "outputId": "43678c49-7eb8-4d18-e1e9-ea53b68dd060"
   },
   "outputs": [
    {
     "data": {
      "text/plain": [
       "aug    35.59\n",
       "sep    33.27\n",
       "mar    10.44\n",
       "jul     6.19\n",
       "feb     3.87\n",
       "jun     3.29\n",
       "oct     2.90\n",
       "apr     1.74\n",
       "dec     1.74\n",
       "jan     0.39\n",
       "may     0.39\n",
       "nov     0.19\n",
       "Name: month, dtype: float64"
      ]
     },
     "execution_count": 80,
     "metadata": {},
     "output_type": "execute_result"
    }
   ],
   "source": [
    "# check statistical significance of labels in categorical attribute 2. [ /3 marks]\n",
    "# ****** your code here ******\n",
    "\n",
    "# (df.month.value_counts()/df.month.value_counts().sum())*100 < 5\n",
    "((df.month.value_counts()/df.month.value_counts().sum())*100).round(2)\n",
    "# we see that feb, jun, oct, apr, dec, jan, may, nov are statistically insignificant"
   ]
  },
  {
   "cell_type": "code",
   "execution_count": null,
   "metadata": {
    "id": "vcBXhdb50r7Z"
   },
   "outputs": [],
   "source": [
    "# Group insignificant labels into two new statistically significant labels. [ /8 marks]\n",
    "# ****** your code here ******\n",
    "\n",
    "# we can put 'feb' and 'jun' together to create a new statistically significant categorical attribute called \"fj\"\n",
    "df.month.replace({'feb':'fj', 'jun':'fj'}, inplace=True)\n",
    "\n",
    "# we can put 'oct', 'apr', 'dec', 'jan', 'may', and 'nov' together to create another new statistically significant categorical attribute called \"oadjmn\"\n",
    "df.month.replace({'oct':'oadjmn', 'apr':'oadjmn', 'dec':'oadjmn', 'jan':'oadjmn', 'may':'oadjmn', 'nov':'oadjmn'}, inplace=True)"
   ]
  },
  {
   "cell_type": "code",
   "execution_count": null,
   "metadata": {
    "id": "_2EX7Zyj0r7Z",
    "outputId": "f8ca4c03-987a-4c58-e232-7a4519135efb"
   },
   "outputs": [
    {
     "data": {
      "text/plain": [
       "aug       35.59\n",
       "sep       33.27\n",
       "mar       10.44\n",
       "oadjmn     7.35\n",
       "fj         7.16\n",
       "jul        6.19\n",
       "Name: month, dtype: float64"
      ]
     },
     "execution_count": 82,
     "metadata": {},
     "output_type": "execute_result"
    }
   ],
   "source": [
    "# recheck statistical significance of the attribute with adjusted labels [ /1 marks]\n",
    "# ****** your code here ******\n",
    "\n",
    "((df.month.value_counts()/df.month.value_counts().sum())*100).round(2)\n",
    "# all are now greater than 5%"
   ]
  },
  {
   "cell_type": "markdown",
   "metadata": {
    "id": "qlESz8lQ0r7a"
   },
   "source": [
    "## Question 1.2 [ _ /4 marks]\n",
    "\n",
    "Let's convert all categorical data into numerical data using `get_dummies`. Display the first 5 rows of your new dataframe."
   ]
  },
  {
   "cell_type": "code",
   "execution_count": null,
   "metadata": {
    "id": "StoEY7iK0r7a",
    "outputId": "78c0b151-063d-48a6-9a85-1c8cdfe68efd"
   },
   "outputs": [
    {
     "data": {
      "text/html": [
       "<div>\n",
       "<style scoped>\n",
       "    .dataframe tbody tr th:only-of-type {\n",
       "        vertical-align: middle;\n",
       "    }\n",
       "\n",
       "    .dataframe tbody tr th {\n",
       "        vertical-align: top;\n",
       "    }\n",
       "\n",
       "    .dataframe thead th {\n",
       "        text-align: right;\n",
       "    }\n",
       "</style>\n",
       "<table border=\"1\" class=\"dataframe\">\n",
       "  <thead>\n",
       "    <tr style=\"text-align: right;\">\n",
       "      <th></th>\n",
       "      <th>X</th>\n",
       "      <th>Y</th>\n",
       "      <th>FFMC</th>\n",
       "      <th>DMC</th>\n",
       "      <th>DC</th>\n",
       "      <th>ISI</th>\n",
       "      <th>temp</th>\n",
       "      <th>RH</th>\n",
       "      <th>wind</th>\n",
       "      <th>rain</th>\n",
       "      <th>...</th>\n",
       "      <th>month_jul</th>\n",
       "      <th>month_mar</th>\n",
       "      <th>month_oadjmn</th>\n",
       "      <th>month_sep</th>\n",
       "      <th>day_mon</th>\n",
       "      <th>day_sat</th>\n",
       "      <th>day_sun</th>\n",
       "      <th>day_thu</th>\n",
       "      <th>day_tue</th>\n",
       "      <th>day_wed</th>\n",
       "    </tr>\n",
       "  </thead>\n",
       "  <tbody>\n",
       "    <tr>\n",
       "      <th>0</th>\n",
       "      <td>7</td>\n",
       "      <td>5</td>\n",
       "      <td>86.2</td>\n",
       "      <td>26.2</td>\n",
       "      <td>94.3</td>\n",
       "      <td>5.1</td>\n",
       "      <td>8.2</td>\n",
       "      <td>51</td>\n",
       "      <td>6.7</td>\n",
       "      <td>0.0</td>\n",
       "      <td>...</td>\n",
       "      <td>0</td>\n",
       "      <td>1</td>\n",
       "      <td>0</td>\n",
       "      <td>0</td>\n",
       "      <td>0</td>\n",
       "      <td>0</td>\n",
       "      <td>0</td>\n",
       "      <td>0</td>\n",
       "      <td>0</td>\n",
       "      <td>0</td>\n",
       "    </tr>\n",
       "    <tr>\n",
       "      <th>1</th>\n",
       "      <td>7</td>\n",
       "      <td>4</td>\n",
       "      <td>90.6</td>\n",
       "      <td>35.4</td>\n",
       "      <td>669.1</td>\n",
       "      <td>6.7</td>\n",
       "      <td>18.0</td>\n",
       "      <td>33</td>\n",
       "      <td>0.9</td>\n",
       "      <td>0.0</td>\n",
       "      <td>...</td>\n",
       "      <td>0</td>\n",
       "      <td>0</td>\n",
       "      <td>1</td>\n",
       "      <td>0</td>\n",
       "      <td>0</td>\n",
       "      <td>0</td>\n",
       "      <td>0</td>\n",
       "      <td>0</td>\n",
       "      <td>1</td>\n",
       "      <td>0</td>\n",
       "    </tr>\n",
       "    <tr>\n",
       "      <th>2</th>\n",
       "      <td>7</td>\n",
       "      <td>4</td>\n",
       "      <td>90.6</td>\n",
       "      <td>43.7</td>\n",
       "      <td>686.9</td>\n",
       "      <td>6.7</td>\n",
       "      <td>14.6</td>\n",
       "      <td>33</td>\n",
       "      <td>1.3</td>\n",
       "      <td>0.0</td>\n",
       "      <td>...</td>\n",
       "      <td>0</td>\n",
       "      <td>0</td>\n",
       "      <td>1</td>\n",
       "      <td>0</td>\n",
       "      <td>0</td>\n",
       "      <td>1</td>\n",
       "      <td>0</td>\n",
       "      <td>0</td>\n",
       "      <td>0</td>\n",
       "      <td>0</td>\n",
       "    </tr>\n",
       "    <tr>\n",
       "      <th>3</th>\n",
       "      <td>8</td>\n",
       "      <td>6</td>\n",
       "      <td>91.7</td>\n",
       "      <td>33.3</td>\n",
       "      <td>77.5</td>\n",
       "      <td>9.0</td>\n",
       "      <td>8.3</td>\n",
       "      <td>97</td>\n",
       "      <td>4.0</td>\n",
       "      <td>0.2</td>\n",
       "      <td>...</td>\n",
       "      <td>0</td>\n",
       "      <td>1</td>\n",
       "      <td>0</td>\n",
       "      <td>0</td>\n",
       "      <td>0</td>\n",
       "      <td>0</td>\n",
       "      <td>0</td>\n",
       "      <td>0</td>\n",
       "      <td>0</td>\n",
       "      <td>0</td>\n",
       "    </tr>\n",
       "    <tr>\n",
       "      <th>4</th>\n",
       "      <td>8</td>\n",
       "      <td>6</td>\n",
       "      <td>89.3</td>\n",
       "      <td>51.3</td>\n",
       "      <td>102.2</td>\n",
       "      <td>9.6</td>\n",
       "      <td>11.4</td>\n",
       "      <td>99</td>\n",
       "      <td>1.8</td>\n",
       "      <td>0.0</td>\n",
       "      <td>...</td>\n",
       "      <td>0</td>\n",
       "      <td>1</td>\n",
       "      <td>0</td>\n",
       "      <td>0</td>\n",
       "      <td>0</td>\n",
       "      <td>0</td>\n",
       "      <td>1</td>\n",
       "      <td>0</td>\n",
       "      <td>0</td>\n",
       "      <td>0</td>\n",
       "    </tr>\n",
       "  </tbody>\n",
       "</table>\n",
       "<p>5 rows × 22 columns</p>\n",
       "</div>"
      ],
      "text/plain": [
       "   X  Y  FFMC   DMC     DC  ISI  temp  RH  wind  rain  ...  month_jul  \\\n",
       "0  7  5  86.2  26.2   94.3  5.1   8.2  51   6.7   0.0  ...          0   \n",
       "1  7  4  90.6  35.4  669.1  6.7  18.0  33   0.9   0.0  ...          0   \n",
       "2  7  4  90.6  43.7  686.9  6.7  14.6  33   1.3   0.0  ...          0   \n",
       "3  8  6  91.7  33.3   77.5  9.0   8.3  97   4.0   0.2  ...          0   \n",
       "4  8  6  89.3  51.3  102.2  9.6  11.4  99   1.8   0.0  ...          0   \n",
       "\n",
       "   month_mar  month_oadjmn  month_sep  day_mon  day_sat  day_sun  day_thu  \\\n",
       "0          1             0          0        0        0        0        0   \n",
       "1          0             1          0        0        0        0        0   \n",
       "2          0             1          0        0        1        0        0   \n",
       "3          1             0          0        0        0        0        0   \n",
       "4          1             0          0        0        0        1        0   \n",
       "\n",
       "   day_tue  day_wed  \n",
       "0        0        0  \n",
       "1        1        0  \n",
       "2        0        0  \n",
       "3        0        0  \n",
       "4        0        0  \n",
       "\n",
       "[5 rows x 22 columns]"
      ]
     },
     "execution_count": 83,
     "metadata": {},
     "output_type": "execute_result"
    }
   ],
   "source": [
    "# Use \"get_dummies\" to perform one hot encoding to the categorical attributes [ /3 marks]\n",
    "# ****** your code here ****** \n",
    "df = pd.get_dummies(df, drop_first=True)\n",
    "\n",
    "# Display first 5 rows of the dataframe [ /1 mark]\n",
    "# ****** your code here ****** \n",
    "df.head()"
   ]
  },
  {
   "cell_type": "code",
   "execution_count": null,
   "metadata": {
    "id": "wBZV9NZa0r7b",
    "outputId": "fa7e55af-e633-4232-feb5-7266281c33b0"
   },
   "outputs": [
    {
     "data": {
      "text/plain": [
       "Index(['X', 'Y', 'FFMC', 'DMC', 'DC', 'ISI', 'temp', 'RH', 'wind', 'rain',\n",
       "       'area', 'month_fj', 'month_jul', 'month_mar', 'month_oadjmn',\n",
       "       'month_sep', 'day_mon', 'day_sat', 'day_sun', 'day_thu', 'day_tue',\n",
       "       'day_wed'],\n",
       "      dtype='object')"
      ]
     },
     "execution_count": 84,
     "metadata": {},
     "output_type": "execute_result"
    }
   ],
   "source": [
    "# The .head() in the previous cell might give a truncated view. You can see all columns names using: \n",
    "df.columns"
   ]
  },
  {
   "cell_type": "markdown",
   "metadata": {
    "id": "MB1eOBt80r7b"
   },
   "source": [
    "## Question 1.3 [ _ /8 marks]\n",
    "\n",
    "Let's examine the distribution of the target variable \"area\"."
   ]
  },
  {
   "cell_type": "code",
   "execution_count": null,
   "metadata": {
    "id": "Rki8oRHr0r7b",
    "outputId": "9832de8a-fcaa-4b41-df5d-694401b837cc"
   },
   "outputs": [
    {
     "data": {
      "image/png": "[encoded data removed]",
      "text/plain": [
       "<Figure size 640x480 with 1 Axes>"
      ]
     },
     "metadata": {},
     "output_type": "display_data"
    }
   ],
   "source": [
    "# Plot the distribution of target variable \"area\" with bins = 20 using an appropriate seaborn function [ /1 mark]\n",
    "# ****** your code here ****** \n",
    "sns.histplot(data=df.area, bins=20)\n",
    "plt.show()"
   ]
  },
  {
   "cell_type": "markdown",
   "metadata": {
    "id": "ftmUnJKI0r7c"
   },
   "source": [
    " **Question**:\n",
    " \n",
    " Describe the distribution of the target variable. We will use log transform on it, explain why would it help. [ /3 mark]\n",
    "\n",
    "**Your answer**:\n",
    "\n",
    "We are seeing a heavy tailed distributions. We use Log transform to lessen the distances between the data points to make the distribution less skewed."
   ]
  },
  {
   "cell_type": "code",
   "execution_count": null,
   "metadata": {
    "id": "62X8KCMp0r7c",
    "outputId": "072eba9b-fd21-44ef-f409-518723a321bf"
   },
   "outputs": [
    {
     "data": {
      "image/png": "[encoded data removed]",
      "text/plain": [
       "<Figure size 640x480 with 1 Axes>"
      ]
     },
     "metadata": {},
     "output_type": "display_data"
    }
   ],
   "source": [
    "# Use np.log to transform \"area\". [ /3 mark]\n",
    "# Note that log is not defined every where and you might need to do something about it.\n",
    "# ****** your code here ****** \n",
    "area_tranformed = np.log(df.area + 1) # Because it contains 0, let's add 1 to it before log transform\n",
    "\n",
    "# Plot the distribution of target variable \"area\" with bins = 20 using an appropriate seaborn function [ /1 mark]\n",
    "# ****** your code here ****** \n",
    "sns.histplot(data=area_tranformed, bins=20)\n",
    "plt.show()"
   ]
  },
  {
   "cell_type": "markdown",
   "metadata": {
    "id": "DArGjZI_0r7d"
   },
   "source": [
    "## Question 1.4 [ _ /6 marks]\n",
    "\n",
    "Let's use **mean squared error** as our score metric. We can use `sklearn.metrics.mean_squared_error`, but here let's write our own function called `mse` with arguments `y` and `ypr`(predicted y) which returns the mean squared error. Recall the formula for MSE below:\n",
    "\n",
    "$$ MSE = \\frac{1}{n} \\sum_{i=1}^{n}  \\left( \\hat{y_{i}}-y_{i}\\right)^{2} $$"
   ]
  },
  {
   "cell_type": "code",
   "execution_count": null,
   "metadata": {
    "id": "yOQizzzD0r7d"
   },
   "outputs": [],
   "source": [
    "# Define a function that takes in y's and returns MSE [ /6 marks]\n",
    "# ****** your code here ****** \n",
    "def mse(y,ypr):\n",
    "    return np.mean((y-ypr)**2)"
   ]
  },
  {
   "cell_type": "markdown",
   "metadata": {
    "id": "m7DZpq_g0r7d"
   },
   "source": [
    "## Question 1.5 [ _ /4 marks]\n",
    "\n",
    "We will use all available features as predictors, and use the log transformed \"area\" as target variable. Then let's split our data into training and test. As usual, let's use test_size=0.2 and random_state=seed."
   ]
  },
  {
   "cell_type": "code",
   "execution_count": null,
   "metadata": {
    "id": "w_TcPjvj0r7e"
   },
   "outputs": [],
   "source": [
    "# Create X and y [ /2 marks]\n",
    "# ****** your code here ****** \n",
    "X = df.drop(\"area\", axis=1)\n",
    "y = area_tranformed\n",
    "\n",
    "# Use train_test_split on X, y [ /2 marks]\n",
    "# ****** your code here ****** \n",
    "Xtrain, Xtest, ytrain, ytest = train_test_split(X, y, test_size = 0.2, random_state = seed)"
   ]
  },
  {
   "cell_type": "markdown",
   "metadata": {
    "id": "Ipzs0Glf0r7e"
   },
   "source": [
    "## Question 1.6 [ _ / 6 marks]\n",
    "\n",
    "For our first model, create a pipeline called \"M1\" that performs only a linear regression. "
   ]
  },
  {
   "cell_type": "code",
   "execution_count": null,
   "metadata": {
    "id": "516ua4IC0r7f"
   },
   "outputs": [],
   "source": [
    "# Create a pipeline for model 1 (M1) [ /6 marks]\n",
    "# ****** your code here ****** \n",
    "M1 = Pipeline([\n",
    "    ('lr1', LinearRegression())\n",
    "])"
   ]
  },
  {
   "cell_type": "markdown",
   "metadata": {
    "id": "d1FyjaB40r7f"
   },
   "source": [
    "## Question 1.7 [ _ / 8 marks]\n",
    "\n",
    "For our second model let's add quadratic terms for all features (use `PolynomialFeatures`). Create a model pipeline for our second model (M2)."
   ]
  },
  {
   "cell_type": "code",
   "execution_count": null,
   "metadata": {
    "id": "f7cHpfJf0r7f"
   },
   "outputs": [],
   "source": [
    "# Create a pipeline for model 2 (M2) [ / 8 marks]\n",
    "# ****** your code here ****** \n",
    "M2 = Pipeline([\n",
    "    ('poly2', PolynomialFeatures(degree=2, interaction_only=False)),\n",
    "    ('lr2', LinearRegression())\n",
    "])"
   ]
  },
  {
   "cell_type": "markdown",
   "metadata": {
    "id": "ZS2WYLMA0r7f"
   },
   "source": [
    "## Question 1.8 [ _ / 18 marks]\n",
    "\n",
    "`Temperature (temp)` and `Rain (rain)` may be important features, so let's extend model 1 by adding a *cubed* term for temp and a *squared* term for rain. Before creating a pipeline for this model, we need a custom transformer: we can specify a column for squared rain and one for cubed temp. The transformer has been initialized below, but you'll need to finish it with 1-2 lines of code. After this, create your corresponding pipeline (M3)."
   ]
  },
  {
   "cell_type": "code",
   "execution_count": null,
   "metadata": {
    "id": "tCypsToV0r7g"
   },
   "outputs": [],
   "source": [
    "# Modify the transform method of the KeyFeatures class [ /10 marks]\n",
    "class KeyFeatures(BaseEstimator, TransformerMixin):\n",
    "    def fit(self, X, y=None):\n",
    "        return self\n",
    "\n",
    "    def transform(self, X, y=None):\n",
    "        # ****** your code here ****** \n",
    "        X = X.assign(rain=X.rain**2)\n",
    "        X = X.assign(temp=X.temp**3)\n",
    "        return X\n",
    "\n",
    "# Create a pipeline for model 3 (M3) [ /8 marks]\n",
    "# ****** your code here ****** \n",
    "M3 = Pipeline([\n",
    "    ('kft', KeyFeatures()),\n",
    "    ('lr3', LinearRegression())\n",
    "])"
   ]
  },
  {
   "cell_type": "markdown",
   "metadata": {
    "id": "OnN9xhmd0r7g"
   },
   "source": [
    "## Question 1.9 [ _ /8 marks]\n",
    "\n",
    "For models 1-3, use 4-fold Cross-validation (CV) on the training set to get the mean and std of score. Use your own `mse` function as your score metric."
   ]
  },
  {
   "cell_type": "code",
   "execution_count": null,
   "metadata": {
    "id": "diXo19FY0r7g",
    "outputId": "4af06434-be85-4979-81f7-957b436dc388"
   },
   "outputs": [
    {
     "name": "stdout",
     "output_type": "stream",
     "text": [
      "M1 loss: 1.9558 +/- 0.1892\n",
      "M2 loss: 89.8795 +/- 78.5693\n",
      "M3 loss: 2.0884 +/- 0.2459\n"
     ]
    }
   ],
   "source": [
    "# Use 4-fold CV on all models to get mean and std of score [ /8 marks]\n",
    "# ****** your code here ****** \n",
    "cvsc1 = cross_val_score(M1, Xtrain, ytrain, cv=4, scoring=make_scorer(mse))\n",
    "cvsc2 = cross_val_score(M2, Xtrain, ytrain, cv=4, scoring=make_scorer(mse))\n",
    "cvsc3 = cross_val_score(M3, Xtrain, ytrain, cv=4, scoring=make_scorer(mse))\n",
    "\n",
    "print(f\"M1 loss: %.4f +/- %.4f\" % (cvsc1.mean(), cvsc1.std()))\n",
    "print(f\"M2 loss: %.4f +/- %.4f\" % (cvsc2.mean(), cvsc2.std()))\n",
    "print(f\"M3 loss: %.4f +/- %.4f\" % (cvsc3.mean(), cvsc3.std()))"
   ]
  },
  {
   "cell_type": "markdown",
   "metadata": {
    "id": "EI4PglCJ0r7g"
   },
   "source": [
    "## Question 2.0 [ _ / 3 marks]"
   ]
  },
  {
   "cell_type": "markdown",
   "metadata": {
    "id": "ZNQxLdNA0r7h"
   },
   "source": [
    "**Question**: \n",
    "\n",
    "Which model would you choose and why? [ /3 marks]\n",
    "\n",
    "**Your answer**:\n",
    "\n",
    "Model 1, because it has the lowest cross-validated training loss, plus, compared to M2 and M3, it is the most conservative one."
   ]
  },
  {
   "cell_type": "markdown",
   "metadata": {
    "id": "ID9AqeCE0r7h"
   },
   "source": [
    "## Question 2.1 [ _ /  6 marks]\n",
    "\n",
    "Estimate the performance of your chosen model on the test data (which has been held out) using `mse`. "
   ]
  },
  {
   "cell_type": "code",
   "execution_count": null,
   "metadata": {
    "id": "28BKd-SA0r7i",
    "outputId": "291350b6-ecac-4891-c226-81ead53383a8"
   },
   "outputs": [
    {
     "name": "stdout",
     "output_type": "stream",
     "text": [
      "MSE Loss on test data: 2.455\n"
     ]
    }
   ],
   "source": [
    "# Compute the test loss on the unseen (test) dataset [ /6 marks]\n",
    "# ****** your code here ******\n",
    "ypred = M1.fit(Xtrain, ytrain).predict(Xtest)\n",
    "test_loss = mse(ytest, ypred)\n",
    "\n",
    "print('MSE Loss on test data:',test_loss.round(3))"
   ]
  },
  {
   "cell_type": "markdown",
   "metadata": {
    "id": "r8kjDTku0r7i"
   },
   "source": [
    "## Question 2.2 [ _ /8 marks]\n",
    "\n",
    "Recap: The central limit theorem (CLT) states that if you have a population with mean $\\mu$ and standard deviation $\\sigma$ and take sufficiently large random samples from the population with replacement, then the distribution of the sample means will be approximately normally distributed. This will hold true regardless of whether the source population is normal or skewed, provided the sample size is sufficiently large (usually greater than 30).\n",
    "\n",
    "Compute (and print) a 95% confidence interval for the average test error using the Central Limit Theorem. You can use the following formula to compute it: \n",
    "\n",
    "$$ \\bar{L_n} \\pm 1.96 * \\frac{\\sigma_{l}}{\\sqrt{n}}$$\n",
    "\n",
    "Here $\\bar{L_n}$ is the average test loss (i.e. for our test set), $\\sigma_l$ is the standard deviation (of our test losses), and $n$ is the total number of test losses we compute.  "
   ]
  },
  {
   "cell_type": "code",
   "execution_count": null,
   "metadata": {
    "id": "KzS8Z3050r7i",
    "outputId": "92796689-c064-47a6-a0d0-728943ee2cdd"
   },
   "outputs": [
    {
     "name": "stdout",
     "output_type": "stream",
     "text": [
      "Confidence Interval: [1.629 3.281]\n"
     ]
    }
   ],
   "source": [
    "# Test loss here is a point estimate (statistic) for the generalization error\n",
    "# Having >30 samples, we can use the formula above safely\n",
    "# Here we compute confidence interval for generalization error (i.e.expected [average] test loss for this particular dataset)\n",
    "\n",
    "# Calculate the 95% Confidence Interval for average test loss [ /8 marks]\n",
    "# ****** your code here ****** \n",
    "\n",
    "# statistic is squared error of test set\n",
    "s = (ytest-ypred)**2 \n",
    "\n",
    "# standard error of statistic\n",
    "SE = s.std() / np.sqrt(len(s)) \n",
    "L  = 1.96*SE\n",
    "\n",
    "# Constructing confidence interval\n",
    "ci = np.array([test_loss-L, test_loss+L])\n",
    "\n",
    "print('Confidence Interval:', ci)"
   ]
  },
  {
   "cell_type": "markdown",
   "metadata": {
    "id": "wWOTxFSA0r7i"
   },
   "source": [
    "# Follow these instructions:\n",
    "\n",
    "Once you are finished, ensure to complete the following steps.\n",
    "\n",
    "1.  Restart your kernel by clicking 'Kernel' > 'Restart & Run All'.\n",
    "\n",
    "2.  Fix any errors which result from this.\n",
    "\n",
    "3.  Repeat steps 1. and 2. until your notebook runs without errors.\n",
    "\n",
    "4.  Submit your completed notebook to OWL by the deadline."
   ]
  }
 ],
 "metadata": {
  "colab": {
   "collapsed_sections": [],
   "provenance": []
  },
  "kernelspec": {
   "display_name": "Python 3 (ipykernel)",
   "language": "python",
   "name": "python3"
  },
  "language_info": {
   "codemirror_mode": {
    "name": "ipython",
    "version": 3
   },
   "file_extension": ".py",
   "mimetype": "text/x-python",
   "name": "python",
   "nbconvert_exporter": "python",
   "pygments_lexer": "ipython3",
   "version": "3.9.12"
  },
  "vscode": {
   "interpreter": {
    "hash": "3420a8792bbc8a921cecec9f5e200567f9d5b83365a03086ee32a665b051d9eb"
   }
  }
 },
 "nbformat": 4,
 "nbformat_minor": 1
}
