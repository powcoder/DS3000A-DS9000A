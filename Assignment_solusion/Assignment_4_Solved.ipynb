{
 "cells": [
  {
   "cell_type": "markdown",
   "metadata": {
    "id": "VEli4vpKptYA"
   },
   "source": [
    "### Follow These Instructions\n",
    "\n",
    "Once you are finished, ensure to complete the following steps.\n",
    "\n",
    "1.  Restart your kernel by clicking 'Kernel' > 'Restart & Run All'.\n",
    "\n",
    "2.  Fix any errors which result from this.\n",
    "\n",
    "3.  Repeat steps 1. and 2. until your notebook runs without errors.\n",
    "\n",
    "4.  Submit your completed notebook to OWL by the deadline."
   ]
  },
  {
   "cell_type": "markdown",
   "metadata": {
    "id": "5Ft4WRgSptYH"
   },
   "source": [
    "# Assignment 4: Classification with Logistic Regression  [ __ /100  marks]\n",
    "\n",
    "\n",
    "In this assignment we will use the `diabetes` dataset, which was collected and made available by “National Institute of Diabetes and Digestive and Kidney Diseases” as part of the Pima Indians Diabetes Database. \n",
    "\n",
    "We will use logistic regression to predict whether subjects have diabetes or not."
   ]
  },
  {
   "cell_type": "code",
   "execution_count": null,
   "metadata": {
    "id": "OYxrTQFoptYJ"
   },
   "outputs": [],
   "source": [
    "import pandas as pd\n",
    "import seaborn as sns\n",
    "import numpy as np\n",
    "from sklearn.model_selection import train_test_split, cross_val_score\n",
    "from sklearn.linear_model import LogisticRegression\n",
    "from sklearn.metrics import roc_curve, precision_recall_curve, auc\n",
    "import matplotlib.pyplot as plt\n",
    "from sklearn.linear_model import SGDClassifier\n",
    "from sklearn.preprocessing import StandardScaler\n",
    "from sklearn.pipeline import make_pipeline\n",
    "seed=0"
   ]
  },
  {
   "cell_type": "markdown",
   "metadata": {
    "id": "0PSFS3ETptYM"
   },
   "source": [
    "## Question 1.1 [ _ /3 marks]\n",
    "\n",
    "Read the file `diabetes.csv` into a pandas DataFrame. Display the first 5 rows of the DataFrame. "
   ]
  },
  {
   "cell_type": "code",
   "execution_count": null,
   "metadata": {
    "colab": {
     "base_uri": "https://localhost:8080/",
     "height": 206
    },
    "executionInfo": {
     "elapsed": 407,
     "status": "ok",
     "timestamp": 1666056094878,
     "user": {
      "displayName": "Alireza Fazeli",
      "userId": "13019604121988176443"
     },
     "user_tz": 240
    },
    "id": "tzQATRLhptYN",
    "outputId": "46298586-42de-4d4e-b62e-7c5545b7829b",
    "scrolled": true
   },
   "outputs": [
    {
     "data": {
      "text/html": [
       "\n",
       "  <div id=\"df-20d1b902-c2c8-4ccd-b718-32b0198eecb3\">\n",
       "    <div class=\"colab-df-container\">\n",
       "      <div>\n",
       "<style scoped>\n",
       "    .dataframe tbody tr th:only-of-type {\n",
       "        vertical-align: middle;\n",
       "    }\n",
       "\n",
       "    .dataframe tbody tr th {\n",
       "        vertical-align: top;\n",
       "    }\n",
       "\n",
       "    .dataframe thead th {\n",
       "        text-align: right;\n",
       "    }\n",
       "</style>\n",
       "<table border=\"1\" class=\"dataframe\">\n",
       "  <thead>\n",
       "    <tr style=\"text-align: right;\">\n",
       "      <th></th>\n",
       "      <th>Pregnancies</th>\n",
       "      <th>Glucose</th>\n",
       "      <th>BloodPressure</th>\n",
       "      <th>SkinThickness</th>\n",
       "      <th>Insulin</th>\n",
       "      <th>BMI</th>\n",
       "      <th>DiabetesPedigreeFunction</th>\n",
       "      <th>Age</th>\n",
       "      <th>Outcome</th>\n",
       "    </tr>\n",
       "  </thead>\n",
       "  <tbody>\n",
       "    <tr>\n",
       "      <th>0</th>\n",
       "      <td>6</td>\n",
       "      <td>148</td>\n",
       "      <td>72</td>\n",
       "      <td>35</td>\n",
       "      <td>0</td>\n",
       "      <td>33.6</td>\n",
       "      <td>0.627</td>\n",
       "      <td>50</td>\n",
       "      <td>1</td>\n",
       "    </tr>\n",
       "    <tr>\n",
       "      <th>1</th>\n",
       "      <td>1</td>\n",
       "      <td>85</td>\n",
       "      <td>66</td>\n",
       "      <td>29</td>\n",
       "      <td>0</td>\n",
       "      <td>26.6</td>\n",
       "      <td>0.351</td>\n",
       "      <td>31</td>\n",
       "      <td>0</td>\n",
       "    </tr>\n",
       "    <tr>\n",
       "      <th>2</th>\n",
       "      <td>8</td>\n",
       "      <td>183</td>\n",
       "      <td>64</td>\n",
       "      <td>0</td>\n",
       "      <td>0</td>\n",
       "      <td>23.3</td>\n",
       "      <td>0.672</td>\n",
       "      <td>32</td>\n",
       "      <td>1</td>\n",
       "    </tr>\n",
       "    <tr>\n",
       "      <th>3</th>\n",
       "      <td>1</td>\n",
       "      <td>89</td>\n",
       "      <td>66</td>\n",
       "      <td>23</td>\n",
       "      <td>94</td>\n",
       "      <td>28.1</td>\n",
       "      <td>0.167</td>\n",
       "      <td>21</td>\n",
       "      <td>0</td>\n",
       "    </tr>\n",
       "    <tr>\n",
       "      <th>4</th>\n",
       "      <td>0</td>\n",
       "      <td>137</td>\n",
       "      <td>40</td>\n",
       "      <td>35</td>\n",
       "      <td>168</td>\n",
       "      <td>43.1</td>\n",
       "      <td>2.288</td>\n",
       "      <td>33</td>\n",
       "      <td>1</td>\n",
       "    </tr>\n",
       "  </tbody>\n",
       "</table>\n",
       "</div>\n",
       "      <button class=\"colab-df-convert\" onclick=\"convertToInteractive('df-20d1b902-c2c8-4ccd-b718-32b0198eecb3')\"\n",
       "              title=\"Convert this dataframe to an interactive table.\"\n",
       "              style=\"display:none;\">\n",
       "        \n",
       "  <svg xmlns=\"http://www.w3.org/2000/svg\" height=\"24px\"viewBox=\"0 0 24 24\"\n",
       "       width=\"24px\">\n",
       "    <path d=\"M0 0h24v24H0V0z\" fill=\"none\"/>\n",
       "    <path d=\"M18.56 5.44l.94 2.06.94-2.06 2.06-.94-2.06-.94-.94-2.06-.94 2.06-2.06.94zm-11 1L8.5 8.5l.94-2.06 2.06-.94-2.06-.94L8.5 2.5l-.94 2.06-2.06.94zm10 10l.94 2.06.94-2.06 2.06-.94-2.06-.94-.94-2.06-.94 2.06-2.06.94z\"/><path d=\"M17.41 7.96l-1.37-1.37c-.4-.4-.92-.59-1.43-.59-.52 0-1.04.2-1.43.59L10.3 9.45l-7.72 7.72c-.78.78-.78 2.05 0 2.83L4 21.41c.39.39.9.59 1.41.59.51 0 1.02-.2 1.41-.59l7.78-7.78 2.81-2.81c.8-.78.8-2.07 0-2.86zM5.41 20L4 18.59l7.72-7.72 1.47 1.35L5.41 20z\"/>\n",
       "  </svg>\n",
       "      </button>\n",
       "      \n",
       "  <style>\n",
       "    .colab-df-container {\n",
       "      display:flex;\n",
       "      flex-wrap:wrap;\n",
       "      gap: 12px;\n",
       "    }\n",
       "\n",
       "    .colab-df-convert {\n",
       "      background-color: #E8F0FE;\n",
       "      border: none;\n",
       "      border-radius: 50%;\n",
       "      cursor: pointer;\n",
       "      display: none;\n",
       "      fill: #1967D2;\n",
       "      height: 32px;\n",
       "      padding: 0 0 0 0;\n",
       "      width: 32px;\n",
       "    }\n",
       "\n",
       "    .colab-df-convert:hover {\n",
       "      background-color: #E2EBFA;\n",
       "      box-shadow: 0px 1px 2px rgba(60, 64, 67, 0.3), 0px 1px 3px 1px rgba(60, 64, 67, 0.15);\n",
       "      fill: #174EA6;\n",
       "    }\n",
       "\n",
       "    [theme=dark] .colab-df-convert {\n",
       "      background-color: #3B4455;\n",
       "      fill: #D2E3FC;\n",
       "    }\n",
       "\n",
       "    [theme=dark] .colab-df-convert:hover {\n",
       "      background-color: #434B5C;\n",
       "      box-shadow: 0px 1px 3px 1px rgba(0, 0, 0, 0.15);\n",
       "      filter: drop-shadow(0px 1px 2px rgba(0, 0, 0, 0.3));\n",
       "      fill: #FFFFFF;\n",
       "    }\n",
       "  </style>\n",
       "\n",
       "      <script>\n",
       "        const buttonEl =\n",
       "          document.querySelector('#df-20d1b902-c2c8-4ccd-b718-32b0198eecb3 button.colab-df-convert');\n",
       "        buttonEl.style.display =\n",
       "          google.colab.kernel.accessAllowed ? 'block' : 'none';\n",
       "\n",
       "        async function convertToInteractive(key) {\n",
       "          const element = document.querySelector('#df-20d1b902-c2c8-4ccd-b718-32b0198eecb3');\n",
       "          const dataTable =\n",
       "            await google.colab.kernel.invokeFunction('convertToInteractive',\n",
       "                                                     [key], {});\n",
       "          if (!dataTable) return;\n",
       "\n",
       "          const docLinkHtml = 'Like what you see? Visit the ' +\n",
       "            '<a target=\"_blank\" href=https://colab.research.google.com/notebooks/data_table.ipynb>data table notebook</a>'\n",
       "            + ' to learn more about interactive tables.';\n",
       "          element.innerHTML = '';\n",
       "          dataTable['output_type'] = 'display_data';\n",
       "          await google.colab.output.renderOutput(dataTable, element);\n",
       "          const docLink = document.createElement('div');\n",
       "          docLink.innerHTML = docLinkHtml;\n",
       "          element.appendChild(docLink);\n",
       "        }\n",
       "      </script>\n",
       "    </div>\n",
       "  </div>\n",
       "  "
      ],
      "text/plain": [
       "   Pregnancies  Glucose  BloodPressure  SkinThickness  Insulin   BMI  \\\n",
       "0            6      148             72             35        0  33.6   \n",
       "1            1       85             66             29        0  26.6   \n",
       "2            8      183             64              0        0  23.3   \n",
       "3            1       89             66             23       94  28.1   \n",
       "4            0      137             40             35      168  43.1   \n",
       "\n",
       "   DiabetesPedigreeFunction  Age  Outcome  \n",
       "0                     0.627   50        1  \n",
       "1                     0.351   31        0  \n",
       "2                     0.672   32        1  \n",
       "3                     0.167   21        0  \n",
       "4                     2.288   33        1  "
      ]
     },
     "execution_count": 2,
     "metadata": {},
     "output_type": "execute_result"
    }
   ],
   "source": [
    "# ****** your code here ******\n",
    "df = pd.read_csv('diabetes.csv')\n",
    "df.head()"
   ]
  },
  {
   "cell_type": "markdown",
   "metadata": {
    "id": "-fzA7HRWptYO"
   },
   "source": [
    "## Question 1.2 [ _ /6 marks]\n",
    "\n",
    "(1) How many classes are there? How many features are available to predict the outcome?"
   ]
  },
  {
   "cell_type": "markdown",
   "metadata": {
    "id": "CfGaZZ1NptYP"
   },
   "source": [
    "**Your answer**: 2 classes. 8 features."
   ]
  },
  {
   "cell_type": "markdown",
   "metadata": {
    "id": "7TodcMcQptYQ"
   },
   "source": [
    "(2) Is the dataset class-balanced?"
   ]
  },
  {
   "cell_type": "code",
   "execution_count": null,
   "metadata": {
    "colab": {
     "base_uri": "https://localhost:8080/"
    },
    "executionInfo": {
     "elapsed": 329,
     "status": "ok",
     "timestamp": 1666056101686,
     "user": {
      "displayName": "Alireza Fazeli",
      "userId": "13019604121988176443"
     },
     "user_tz": 240
    },
    "id": "WlBlK3lDptYR",
    "outputId": "90560108-6a99-4817-dace-a8edcec37a38"
   },
   "outputs": [
    {
     "data": {
      "text/plain": [
       "0    500\n",
       "1    268\n",
       "Name: Outcome, dtype: int64"
      ]
     },
     "execution_count": 3,
     "metadata": {},
     "output_type": "execute_result"
    }
   ],
   "source": [
    "# ****** your code here ******\n",
    "df.Outcome.value_counts()"
   ]
  },
  {
   "cell_type": "markdown",
   "metadata": {
    "id": "lCCHsvJWptYT"
   },
   "source": [
    "**Your answer**: No"
   ]
  },
  {
   "cell_type": "markdown",
   "metadata": {
    "id": "dtTuKzC9ptYU"
   },
   "source": [
    "(3) For this classification problem, what is the baseline accuracy? Round into 3 decimal place."
   ]
  },
  {
   "cell_type": "code",
   "execution_count": null,
   "metadata": {
    "colab": {
     "base_uri": "https://localhost:8080/"
    },
    "executionInfo": {
     "elapsed": 419,
     "status": "ok",
     "timestamp": 1666056104052,
     "user": {
      "displayName": "Alireza Fazeli",
      "userId": "13019604121988176443"
     },
     "user_tz": 240
    },
    "id": "y-uYxyS3ptYU",
    "outputId": "b1e6cbaf-aeeb-4038-a04f-9b1d2ead5dff"
   },
   "outputs": [
    {
     "name": "stdout",
     "output_type": "stream",
     "text": [
      "Baseline Accuracy is: 0.651\n"
     ]
    }
   ],
   "source": [
    "# ****** your code here ******\n",
    "counts= df.Outcome.value_counts()\n",
    "# A = df.Outcome[df['Outcome']== 0].count() # majority class\n",
    "# B = df.Outcome[df['Outcome']== 1].count()\n",
    "baseline_accuracy = round(counts[0]/(counts[0]+counts[1]), 3)\n",
    "print(\"Baseline Accuracy is:\", baseline_accuracy)"
   ]
  },
  {
   "cell_type": "markdown",
   "metadata": {
    "id": "LebDDOfxptYV"
   },
   "source": [
    "## Question 1.3 [ _ /3 marks]\n",
    "\n",
    "Use `train_test_split` with `random_state=0` to split the data into training and test sets. Leave `20%` for testing."
   ]
  },
  {
   "cell_type": "code",
   "execution_count": null,
   "metadata": {
    "id": "441dD6thptYW"
   },
   "outputs": [],
   "source": [
    "# Store all the features into variable \"X\"\n",
    "# ****** your code here ******\n",
    "#X = df.iloc[:,0:8].values\n",
    "X = df.drop(\"Outcome\", axis='columns').values\n",
    "\n",
    "# Store the output class values into variable \"y\" \n",
    "# ****** your code here ******\n",
    "y = df.Outcome.values\n",
    "\n",
    "# Split your X and y data using train_test_split \n",
    "# ****** your code here ******\n",
    "Xtrain, Xtest, ytrain, ytest = train_test_split(X, y, test_size=0.2, random_state=seed)"
   ]
  },
  {
   "cell_type": "markdown",
   "metadata": {
    "id": "2e89QzXhptYX"
   },
   "source": [
    "## Question 2.1 [ _ /3 marks]\n",
    "\n",
    "We will use sklearn's `LogisticRegression` to solve the classification problem. Before we move on, answer the following questions by reading the [documentation](https://scikit-learn.org/stable/modules/generated/sklearn.linear_model.LogisticRegression.html)."
   ]
  },
  {
   "cell_type": "markdown",
   "metadata": {
    "id": "fUH6S3P3ptYX"
   },
   "source": [
    "\n",
    "(1) Does `LogisticRegression` use a penalty by default?  If yes, what penalty?\n",
    "\n",
    "**Your answer**: Yes, it uses L2 penalty by default.\n",
    "\n",
    "\n",
    "    \n",
    "(2) If we apply a penalty during learning, what difference do you expect to see in the resulting coefficients, relative to not applying a penalty during learning?\n",
    "\n",
    "**Your answer**: We expect the coefficients to be smaller if a penalty is applied.\n",
    "    \n",
    "(3) If using the default settings of `LogisticRegression`, do you need to include a column of 1s in your feature/design matrix? Briefly explain why or why not.\n",
    "\n",
    "**Your answer**: A column of 1s is not needed because by default sklearn estimates an intercept."
   ]
  },
  {
   "cell_type": "markdown",
   "metadata": {
    "id": "tH80xnI1ptYY"
   },
   "source": [
    "## Question 2.2 [ _ /10 marks]\n",
    "\n",
    "Create a `LogisticRegression` model with `penalty=none`. Let's fisrt train and test this classifier using only \"Insulin\" as the input feature. Make a scatter plot of the points. Plot your prediction on the same graph."
   ]
  },
  {
   "cell_type": "code",
   "execution_count": null,
   "metadata": {
    "colab": {
     "base_uri": "https://localhost:8080/",
     "height": 279
    },
    "executionInfo": {
     "elapsed": 672,
     "status": "ok",
     "timestamp": 1666056108168,
     "user": {
      "displayName": "Alireza Fazeli",
      "userId": "13019604121988176443"
     },
     "user_tz": 240
    },
    "id": "hoiir33ZptYZ",
    "outputId": "24209d1e-3ead-45a2-f600-1330c03556f8"
   },
   "outputs": [
    {
     "data": {
      "image/png": "[encoded data removed]",
      "text/plain": [
       "<Figure size 432x288 with 1 Axes>"
      ]
     },
     "metadata": {
      "needs_background": "light"
     },
     "output_type": "display_data"
    }
   ],
   "source": [
    "# Create a LogisticRegression model without regularization \n",
    "# ****** your code here ******\n",
    "LR1 = LogisticRegression(penalty=\"none\", max_iter=10000)\n",
    "\n",
    "# Obtain training data and test data  \n",
    "# ****** your code here ******\n",
    "xtrain = Xtrain[:,4].reshape(-1, 1)\n",
    "xtest = Xtest[:,4].reshape(-1, 1)\n",
    "\n",
    "# OR\n",
    "# xtrain = Xtrain[:,[4]]\n",
    "# xtest = Xtest[:,[4]]\n",
    "\n",
    "# Fit to your training data using Logistic Regression \n",
    "# ****** your code here ******\n",
    "LR1.fit(xtrain, ytrain)\n",
    "\n",
    "# Create a scatter plot of the test data. \n",
    "# ****** your code here ******\n",
    "plt.scatter(xtest, ytest)\n",
    "plt.xlabel('Insulin')\n",
    "plt.ylabel('Outcome')\n",
    "\n",
    "# Also plot your prediction using sns.lineplot\n",
    "# lineplot needs 1d vector x\n",
    "ypred = LR1.predict(xtest)\n",
    "sns.lineplot(x=xtest.reshape(-1), y=ypred,color=\"red\") \n",
    "plt.show()"
   ]
  },
  {
   "cell_type": "markdown",
   "metadata": {
    "id": "4LNDzh9sptYZ"
   },
   "source": [
    "## Question 2.3 [ _ /10 marks]\n",
    "Evaluate the classification performance using `Accuracy`, `Recall`, `Precision`, `Sensitivity` and `Specificity`."
   ]
  },
  {
   "cell_type": "code",
   "execution_count": null,
   "metadata": {
    "colab": {
     "base_uri": "https://localhost:8080/"
    },
    "executionInfo": {
     "elapsed": 372,
     "status": "ok",
     "timestamp": 1666057050420,
     "user": {
      "displayName": "Alireza Fazeli",
      "userId": "13019604121988176443"
     },
     "user_tz": 240
    },
    "id": "4gLV-pd0ptYa",
    "outputId": "5d9203c2-73e8-4407-bacd-1bc5a03dea50"
   },
   "outputs": [
    {
     "name": "stdout",
     "output_type": "stream",
     "text": [
      "tp: 3 tn: 106 fp: 1 fn: 44\n",
      "Accuracy: 0.707792 Recall: 0.06383 Precision: 0.75 Sensitivity: 0.06383 Specificity: 0.990654\n"
     ]
    }
   ],
   "source": [
    "# ****** your code here ******\n",
    "# You can either write a function or not\n",
    "\n",
    "def compute_performance(yhat, y, classes):\n",
    "    # First, get tp, tn, fp, fn\n",
    "    tp = sum(np.logical_and(yhat == classes[1], y == classes[1]))\n",
    "    tn = sum(np.logical_and(yhat == classes[0], y == classes[0]))\n",
    "    fp = sum(np.logical_and(yhat == classes[1], y == classes[0]))\n",
    "    fn = sum(np.logical_and(yhat == classes[0], y == classes[1]))\n",
    "\n",
    "    print(f\"tp: {tp} tn: {tn} fp: {fp} fn: {fn}\")\n",
    "    \n",
    "    # Accuracy\n",
    "    acc = (tp + tn) / (tp + tn + fp + fn)\n",
    "    \n",
    "    # Precision\n",
    "    # \"Of the ones I labeled +, how many are actually +?\"\n",
    "    precision = tp / (tp + fp)\n",
    "    \n",
    "    # Recall\n",
    "    # \"Of all the + in the data, how many do I correctly label?\"\n",
    "    recall = tp / (tp + fn)    \n",
    "    \n",
    "    # Sensitivity\n",
    "    # \"Of all the + in the data, how many do I correctly label?\"\n",
    "    sensitivity = recall\n",
    "    \n",
    "    # Specificity\n",
    "    # \"Of all the - in the data, how many do I correctly label?\"\n",
    "    specificity = tn / (fp + tn)\n",
    "    \n",
    "    # Print results\n",
    "    \n",
    "    print(\"Accuracy:\",round(acc,6),\"Recall:\",round(recall,6),\"Precision:\",round(precision,6),\n",
    "          \"Sensitivity:\",round(sensitivity,6),\"Specificity:\",round(specificity,6))\n",
    "\n",
    "\n",
    "compute_performance(ypred, ytest, LR1.classes_)"
   ]
  },
  {
   "cell_type": "markdown",
   "metadata": {
    "id": "z45gvcjqptYa"
   },
   "source": [
    "## Question 3.1 [ _ /10 marks]\n",
    "\n",
    "Create another `LogisticRegression` model with `penalty=none`. Train and test this classifier with all features and then evaluate the performance."
   ]
  },
  {
   "cell_type": "code",
   "execution_count": null,
   "metadata": {
    "colab": {
     "base_uri": "https://localhost:8080/"
    },
    "executionInfo": {
     "elapsed": 389,
     "status": "ok",
     "timestamp": 1666056326603,
     "user": {
      "displayName": "Alireza Fazeli",
      "userId": "13019604121988176443"
     },
     "user_tz": 240
    },
    "id": "a5OeJZ-RptYa",
    "outputId": "a70df774-b9b3-485e-cd7d-c547ef425b43"
   },
   "outputs": [
    {
     "name": "stdout",
     "output_type": "stream",
     "text": [
      "tp: 29 tn: 98 fp: 9 fn: 18\n",
      "Accuracy: 0.825 Recall: 0.617 Precision: 0.763 Sensitivity: 0.617 Specificity: 0.916\n"
     ]
    }
   ],
   "source": [
    "# Create a LogisticRegression model without regularization \n",
    "# ****** your code here ******\n",
    "LR2 = LogisticRegression(penalty=\"none\", max_iter=10000)\n",
    "\n",
    "# Fit to your training data using Logistic Regression \n",
    "# ****** your code here ******\n",
    "LR2.fit(Xtrain, ytrain)\n",
    "\n",
    "# Compute your test predictions, given test inputs \n",
    "# ****** your code here ******\n",
    "ypred2 = LR2.predict(Xtest)\n",
    "\n",
    "# Evaluate the performance\n",
    "# ****** your code here ******\n",
    "compute_performance(ypred2, ytest, LR2.classes_)"
   ]
  },
  {
   "cell_type": "markdown",
   "metadata": {
    "id": "IiAVDonEptYb"
   },
   "source": [
    "Does using more features help to improve the classification?\n",
    "\n",
    "**Your answer** : Yes"
   ]
  },
  {
   "cell_type": "markdown",
   "metadata": {
    "id": "pdtiE7yxptYb"
   },
   "source": [
    "## Question 3.2 [ _ /10 marks]\n",
    "Let's adjust the decision threshold from 0.5 (default) to 0.4 and 0.6, and then evlaute the performance."
   ]
  },
  {
   "cell_type": "code",
   "execution_count": null,
   "metadata": {
    "colab": {
     "base_uri": "https://localhost:8080/"
    },
    "executionInfo": {
     "elapsed": 441,
     "status": "ok",
     "timestamp": 1666056333208,
     "user": {
      "displayName": "Alireza Fazeli",
      "userId": "13019604121988176443"
     },
     "user_tz": 240
    },
    "id": "W6fA-X9FptYc",
    "outputId": "b0ec3324-ce87-42c6-f359-eb346bfbe1bd"
   },
   "outputs": [
    {
     "name": "stdout",
     "output_type": "stream",
     "text": [
      "tp: 34 tn: 88 fp: 19 fn: 13\n",
      "Accuracy: 0.792 Recall: 0.723 Precision: 0.642 Sensitivity: 0.723 Specificity: 0.822\n"
     ]
    }
   ],
   "source": [
    "# Using your classifer from last question, adjust the decision threshold and get the updated predictions \n",
    "# ****** your code here ******\n",
    "threshold = 0.4\n",
    "ytest_prob = LR2.predict_proba(Xtest)\n",
    "ypred_new = LR2.classes_[(ytest_prob[:,1] > threshold).astype(int)]\n",
    "\n",
    "\n",
    "# Evaluate the performance\n",
    "# ****** your code here ******\n",
    "compute_performance(ypred_new, ytest, LR2.classes_)"
   ]
  },
  {
   "cell_type": "code",
   "execution_count": null,
   "metadata": {
    "colab": {
     "base_uri": "https://localhost:8080/"
    },
    "executionInfo": {
     "elapsed": 479,
     "status": "ok",
     "timestamp": 1666056338079,
     "user": {
      "displayName": "Alireza Fazeli",
      "userId": "13019604121988176443"
     },
     "user_tz": 240
    },
    "id": "oQGoFA4gptYc",
    "outputId": "18b6e992-b98e-4fe4-fa9c-9c66ce0f5ac0"
   },
   "outputs": [
    {
     "name": "stdout",
     "output_type": "stream",
     "text": [
      "tp: 26 tn: 100 fp: 7 fn: 21\n",
      "Accuracy: 0.818 Recall: 0.553 Precision: 0.788 Sensitivity: 0.553 Specificity: 0.935\n"
     ]
    }
   ],
   "source": [
    "# Using your classifer from last question, adjust the decision threshold and get the updated predictions \n",
    "# ****** your code here ******\n",
    "threshold = 0.6\n",
    "ytest_prob = LR2.predict_proba(Xtest)\n",
    "ypred_new = LR2.classes_[(ytest_prob[:,1] > threshold).astype(int)]\n",
    "\n",
    "\n",
    "# Evaluate the performance\n",
    "# ****** your code here ******\n",
    "compute_performance(ypred_new, ytest, LR2.classes_)"
   ]
  },
  {
   "cell_type": "markdown",
   "metadata": {
    "id": "lelFpn0nptYc"
   },
   "source": [
    "What do you think is a better threshold? \n",
    "\n",
    "**Your answer**: To be determined in accordance with context and requirements of the project. This may involve consulting the project stakeholders."
   ]
  },
  {
   "cell_type": "markdown",
   "metadata": {
    "id": "ubvPZSJxptYd"
   },
   "source": [
    "## Question 3.3 [ _ /10 marks]\n",
    "\n",
    "Create a final `LogisticRegression` model with `penalty=l2`, `C=0.01`. Train and test this classifier with all features and then evaluate the performance."
   ]
  },
  {
   "cell_type": "code",
   "execution_count": null,
   "metadata": {
    "colab": {
     "base_uri": "https://localhost:8080/"
    },
    "executionInfo": {
     "elapsed": 343,
     "status": "ok",
     "timestamp": 1666061957008,
     "user": {
      "displayName": "Alireza Fazeli",
      "userId": "13019604121988176443"
     },
     "user_tz": 240
    },
    "id": "J02nU8GzptYd",
    "outputId": "4174e8a5-f376-457d-e425-ef1af33da850"
   },
   "outputs": [
    {
     "name": "stdout",
     "output_type": "stream",
     "text": [
      "tp: 28 tn: 97 fp: 10 fn: 19\n",
      "Accuracy: 0.811688 Recall: 0.595745 Precision: 0.736842 Sensitivity: 0.595745 Specificity: 0.906542\n"
     ]
    }
   ],
   "source": [
    "# Create a LogisticRegression model with l2 regularization \n",
    "# ****** your code here ******\n",
    "LR3 =                                 LogisticRegression(penalty=\"l2\", solver='lbfgs', multi_class='ovr', C=0.01, max_iter=10000)\n",
    "# LR3 = make_pipeline(StandardScaler(), LogisticRegression(penalty=\"l2\", solver='lbfgs', multi_class='ovr', C=0.01, max_iter=10000))\n",
    "# LR3 =                                 LogisticRegression(penalty=\"l2\", solver='lbfgs', multi_class='ovr', C=1,    max_iter=10000) \n",
    "# LR3 = make_pipeline(StandardScaler(), LogisticRegression(penalty=\"l2\", solver='lbfgs', multi_class='ovr', C=1,    max_iter=10000))\n",
    "\n",
    "\n",
    "# Fit to your training data using Logistic Regression \n",
    "# ****** your code here ******\n",
    "LR3.fit(Xtrain, ytrain)\n",
    "\n",
    "# Compute your test predictions, given test inputs \n",
    "# ****** your code here ******\n",
    "ypred3 = LR3.predict(Xtest)\n",
    "\n",
    "# Evaluate the performance\n",
    "# ****** your code here ******\n",
    "compute_performance(ypred3, ytest, LR3.classes_)"
   ]
  },
  {
   "cell_type": "markdown",
   "metadata": {
    "id": "5i-swZgsptYd"
   },
   "source": [
    "Does regularization help to improve the classification?\n",
    "\n",
    "**Your answer** : No"
   ]
  },
  {
   "cell_type": "markdown",
   "metadata": {
    "id": "ra8nlb5IptYd"
   },
   "source": [
    "## Question 4 [ _ /15 marks]\n",
    "\n",
    "Plot ROC Curves for the classifiers you used in questions 2.2, 3.1, and 3.3. Use AUC to determine which classifier is the best."
   ]
  },
  {
   "cell_type": "code",
   "execution_count": null,
   "metadata": {
    "id": "08a-bI56ptYd",
    "outputId": "a2f3bb36-f48e-4abd-944a-08ea9c7b320a"
   },
   "outputs": [
    {
     "name": "stdout",
     "output_type": "stream",
     "text": [
      "AUC Q2.2 Model: 0.536| AUC Q3.1 Model: 0.867| AUC Q3.3 Model: 0.853\n"
     ]
    },
    {
     "data": {
      "image/png": "[encoded data removed]",
      "text/plain": [
       "<Figure size 640x480 with 1 Axes>"
      ]
     },
     "metadata": {},
     "output_type": "display_data"
    }
   ],
   "source": [
    "# Use roc_curve to get FPR and TPR for each of the 3 classifiers \n",
    "# ****** your code here ******\n",
    "fpr1, tpr1, _ = roc_curve(ytest, LR1.predict_proba(xtest)[:,1], pos_label=1)\n",
    "fpr2, tpr2, _ = roc_curve(ytest, LR2.predict_proba(Xtest)[:,1], pos_label=1)\n",
    "fpr3, tpr3, _ = roc_curve(ytest, LR3.predict_proba(Xtest)[:,1], pos_label=1)\n",
    "\n",
    "# Plot all of the ROC curves \n",
    "# ****** your code here ******\n",
    "ax = sns.lineplot(x=fpr1, y=tpr1, color=\"blue\",  label='Q2.2')\n",
    "ax = sns.lineplot(x=fpr2, y=tpr2, color=\"red\",   label='Q3.1')\n",
    "ax = sns.lineplot(x=fpr3, y=tpr3, color=\"green\", label='Q3.3')\n",
    "ax.set_xlabel(\"FP Rate\")\n",
    "ax.set_ylabel(\"TP Rate\")\n",
    "\n",
    "# Determine AUC for each of the ROC curves \n",
    "# ****** your code here ******\n",
    "print(f\"AUC Q2.2 Model: {auc(fpr1, tpr1).round(3)}| AUC Q3.1 Model: {auc(fpr2, tpr2).round(3)}| AUC Q3.3 Model: {auc(fpr3, tpr3).round(3)}\")"
   ]
  },
  {
   "cell_type": "markdown",
   "metadata": {
    "id": "2KC9aadEptYe"
   },
   "source": [
    "Which one is the best classifier?\n",
    "\n",
    "**Your answer**: The LR classifier using all input features and with no regularization."
   ]
  },
  {
   "cell_type": "markdown",
   "metadata": {
    "id": "FOHha6hIptYf"
   },
   "source": [
    "## Question 5 [ _ /20 marks]\n",
    "\n",
    "Multiclass Logistic Regression\n",
    "\n",
    "In the classification lab, we trained a binary LR classifier using the _mnist_ dataset to discriminate entries which were equal to 5 from the rest. Use the same dataset to train a multiclass `SGDClassifier`  with `l2` regularization. So, this time you will have 10 classes i.e., 0, 1, 2, 3, 4, 5, 6, 7, 8, and 9. Your model must achieve an average accuracy of more than 90% according to the cross validation accuracy scores over 3 folds. For training use `max_iter=2000`, `tol=1e-3`, `random_state=seed`. For some `sklearn` functions you can set argument `n_jobs=N` to run them in parallel for computation speed-up. A good value for N can be the number of physical CPU cores that your machine possesses. Check the documentations of the functions to take advantage from this where possible. First load the data and plot a histogram to comment on class distribution and whether you assume the dataset as imbalanced or balanced. For data splitting use `test_size=0.5` and `random_state=seed`."
   ]
  },
  {
   "cell_type": "code",
   "execution_count": null,
   "metadata": {
    "id": "n_wTLZbVptYf"
   },
   "outputs": [],
   "source": [
    "# We will be using the MNIST dataset, which is a set of 70000 small images of handwritten digits.\n",
    "# Each image is labeled with the digit it represents.\n",
    "from sklearn.datasets import fetch_openml\n",
    "mnist = fetch_openml('mnist_784', version=1, as_frame=False)"
   ]
  },
  {
   "cell_type": "code",
   "execution_count": null,
   "metadata": {
    "id": "j64Sl31_ptYf"
   },
   "outputs": [],
   "source": [
    "x_mnist = mnist[\"data\"]\n",
    "y_mnist = mnist[\"target\"].astype(np.uint8)"
   ]
  },
  {
   "cell_type": "code",
   "execution_count": null,
   "metadata": {
    "colab": {
     "base_uri": "https://localhost:8080/",
     "height": 260
    },
    "executionInfo": {
     "elapsed": 685,
     "status": "ok",
     "timestamp": 1666357193872,
     "user": {
      "displayName": "Alireza Fazeli",
      "userId": "13019604121988176443"
     },
     "user_tz": 240
    },
    "id": "AS8P8ts7ptYg",
    "outputId": "52addb55-6870-4962-9129-be298fa5f801"
   },
   "outputs": [
    {
     "name": "stdout",
     "output_type": "stream",
     "text": [
      "Classes: [0 1 2 3 4 5 6 7 8 9]\n",
      "Class count: [6903 7877 6990 7141 6824 6313 6876 7293 6825 6958]\n"
     ]
    },
    {
     "data": {
      "image/png": "[encoded data removed]",
      "text/plain": [
       "<Figure size 400x300 with 1 Axes>"
      ]
     },
     "metadata": {},
     "output_type": "display_data"
    }
   ],
   "source": [
    "c, n = np.unique(y_mnist, return_counts=True)\n",
    "print('Classes:', c)\n",
    "print('Class count:',n)\n",
    "\n",
    "fig, ax = plt.subplots(figsize=(4, 3))\n",
    "sns.histplot(y_mnist).plot(ax=ax)\n",
    "plt.xlabel('Class')\n",
    "plt.show()"
   ]
  },
  {
   "cell_type": "markdown",
   "metadata": {
    "id": "g5mVJOuoptYg"
   },
   "source": [
    "**Your answer**:\n",
    "According to the histogram, it is safe to say we have balanced class distribution."
   ]
  },
  {
   "cell_type": "code",
   "execution_count": null,
   "metadata": {
    "id": "UujfD1ZzptYg"
   },
   "outputs": [],
   "source": [
    "X_train, X_test, y_train, y_test = train_test_split(x_mnist, y_mnist, test_size=0.5, random_state=seed)"
   ]
  },
  {
   "cell_type": "markdown",
   "metadata": {
    "id": "rfPChdW3ptYg"
   },
   "source": [
    "After reading the `SGDClassifier` documentation you realize the following argument settings:\n",
    "\n",
    "`loss='hinge'`    --> gives linear support-vector machine\n",
    "\n",
    "`loss='log_loss` --> gives logistic regression"
   ]
  },
  {
   "cell_type": "code",
   "execution_count": null,
   "metadata": {
    "colab": {
     "base_uri": "https://localhost:8080/"
    },
    "executionInfo": {
     "elapsed": 138949,
     "status": "ok",
     "timestamp": 1666357353449,
     "user": {
      "displayName": "Alireza Fazeli",
      "userId": "13019604121988176443"
     },
     "user_tz": 240
    },
    "id": "4kHCQjhoptYh",
    "outputId": "8bc1ed8a-bfdc-483d-9753-b8e012ab6990"
   },
   "outputs": [
    {
     "name": "stdout",
     "output_type": "stream",
     "text": [
      "Real label of i is _4_ and the model predicted _4_.\n",
      "Scores: [0.874 0.857 0.875]\n",
      "Standard deviation: 0.008\n",
      "Mean score: 86.9%\n"
     ]
    }
   ],
   "source": [
    "clf1 = SGDClassifier(loss='hinge', penalty=\"l2\", max_iter=2000, tol=1e-3, n_jobs=4, random_state=seed).fit(X_train, y_train)\n",
    "\n",
    "i=275\n",
    "print('Real label of i is _'+str(y_train[i])+'_ and the model predicted _'+str(clf1.predict([X_train[i]])[0])+'_.')\n",
    "\n",
    "scores1 = cross_val_score(clf1, X_train, y_train, cv=3, n_jobs=4, scoring=\"accuracy\")\n",
    "print(\"Scores:\", scores1.round(3))\n",
    "print(\"Standard deviation:\", scores1.std().round(3))\n",
    "print(\"Mean score: \"+str(scores1.mean().round(3)*100)+'%')"
   ]
  },
  {
   "cell_type": "markdown",
   "metadata": {
    "id": "OG8qstmYptYh"
   },
   "source": [
    "Not interested in `clf1` as its mean score is less than 90%."
   ]
  },
  {
   "cell_type": "code",
   "execution_count": null,
   "metadata": {
    "id": "ev4AYt68ptYh",
    "outputId": "b7203679-3aa3-4ed2-bfbe-cb8d5b12c67f"
   },
   "outputs": [
    {
     "name": "stdout",
     "output_type": "stream",
     "text": [
      "Real label of i is _8_ and the model predicted _8_.\n",
      "Scores: [0.902 0.909 0.91 ]\n",
      "Standard deviation: 0.003\n",
      "Mean score: 90.7%\n"
     ]
    }
   ],
   "source": [
    "from sklearn.pipeline import make_pipeline\n",
    "\n",
    "clf2 = make_pipeline(StandardScaler(), SGDClassifier(loss='hinge', penalty=\"l2\", max_iter=2000, tol=1e-3, n_jobs=4, random_state=seed)).fit(X_train, y_train)\n",
    "\n",
    "i=66\n",
    "print('Real label of i is _'+str(y_train[i])+'_ and the model predicted _'+str(clf2.predict([X_train[i]])[0])+'_.')\n",
    "\n",
    "scores2 = cross_val_score(clf2, X_train, y_train, cv=3, n_jobs=4, scoring=\"accuracy\")\n",
    "print(\"Scores:\", scores2.round(3))\n",
    "print(\"Standard deviation:\", scores2.std().round(3))\n",
    "print(\"Mean score: \"+str(scores2.mean().round(3)*100)+'%')"
   ]
  },
  {
   "cell_type": "markdown",
   "metadata": {
    "id": "b1POlilMptYh"
   },
   "source": [
    "`clf2` is an acceptable model as its mean score is greater than 90%."
   ]
  },
  {
   "cell_type": "code",
   "execution_count": null,
   "metadata": {
    "id": "lXnn6ElwptYh",
    "outputId": "d205dc19-433c-494a-830f-4886f5b01d9b"
   },
   "outputs": [
    {
     "name": "stdout",
     "output_type": "stream",
     "text": [
      "Real label of i is _3_ and the model predicted _3_.\n",
      "Scores: [0.863 0.875 0.88 ]\n",
      "Standard deviation: 0.007\n",
      "Mean score: 87.3%\n"
     ]
    }
   ],
   "source": [
    "clf3 = SGDClassifier(loss='log_loss', penalty=\"l2\", max_iter=2000, tol=1e-3, n_jobs=4, random_state=seed).fit(X_train, y_train)\n",
    "\n",
    "i=163\n",
    "print('Real label of i is _'+str(y_train[i])+'_ and the model predicted _'+str(clf3.predict([X_train[i]])[0])+'_.')\n",
    "\n",
    "scores3 = cross_val_score(clf3, X_train, y_train, cv=3, n_jobs=4, scoring=\"accuracy\")\n",
    "print(\"Scores:\", scores3.round(3))\n",
    "print(\"Standard deviation:\", scores3.std().round(3))\n",
    "print(\"Mean score: \"+str(scores3.mean().round(3)*100)+'%')"
   ]
  },
  {
   "cell_type": "markdown",
   "metadata": {
    "id": "oefvEIAcptYi"
   },
   "source": [
    "Not interested in `clf3` as its mean score is less than 90%."
   ]
  },
  {
   "cell_type": "code",
   "execution_count": null,
   "metadata": {
    "id": "y8Fb0yKtptYi",
    "outputId": "ea6c71b2-e490-4fa4-941a-dff9b74b4878"
   },
   "outputs": [
    {
     "name": "stdout",
     "output_type": "stream",
     "text": [
      "Real label of i is _7_ and the model predicted _7_.\n",
      "Scores: [0.901 0.909 0.909]\n",
      "Standard deviation: 0.004\n",
      "Mean score: 91.0%\n"
     ]
    }
   ],
   "source": [
    "from sklearn.pipeline import make_pipeline\n",
    "\n",
    "clf4 = make_pipeline(StandardScaler(), SGDClassifier(loss='log_loss', penalty=\"l2\", max_iter=2000, tol=1e-3, n_jobs=4, random_state=seed)).fit(X_train, y_train)\n",
    "\n",
    "i=85\n",
    "print('Real label of i is _'+str(y_train[i])+'_ and the model predicted _'+str(clf4.predict([X_train[i]])[0])+'_.')\n",
    "\n",
    "scores4 = cross_val_score(clf4, X_train, y_train, cv=3, n_jobs=4, scoring=\"accuracy\")\n",
    "print(\"Scores:\", scores4.round(3))\n",
    "print(\"Standard deviation:\", scores4.std().round(3))\n",
    "print(\"Mean score: \"+str(scores4.mean().round(2)*100)+'%')"
   ]
  },
  {
   "cell_type": "markdown",
   "metadata": {
    "id": "C3t0lR5lptYi"
   },
   "source": [
    "`clf4` is an acceptable model as its mean score is greater than 90%."
   ]
  },
  {
   "cell_type": "markdown",
   "metadata": {
    "id": "JsjoD79BptYi"
   },
   "source": [
    "## Extras:\n",
    "\n",
    "You can run the cell below to see how well your model can recognize a digit written by the mouse cursor. Set the `final_model` variable, run the cell, draw on the pop-up canvas, and once you close the canvas you will see the result."
   ]
  },
  {
   "cell_type": "code",
   "execution_count": null,
   "metadata": {
    "id": "aqOPF8_-ptYj",
    "outputId": "3bbe1dbc-1583-44a1-e113-5cf102ab8e7a"
   },
   "outputs": [
    {
     "name": "stdout",
     "output_type": "stream",
     "text": [
      "Your input:\n"
     ]
    },
    {
     "data": {
      "image/png": "[encoded data removed]",
      "text/plain": [
       "<Figure size 640x480 with 1 Axes>"
      ]
     },
     "metadata": {},
     "output_type": "display_data"
    },
    {
     "name": "stdout",
     "output_type": "stream",
     "text": [
      "Input recognized as 7.\n"
     ]
    }
   ],
   "source": [
    "final_model = clf4 # use the name of your final model\n",
    "#!pip install tk-tools\n",
    "from tkinter import *\n",
    "import tkinter as tk\n",
    "from PIL import Image\n",
    "import io\n",
    "import matplotlib as mpl\n",
    "\n",
    "temp_file_name=\"TEMP_image_TEMP.jpg\"\n",
    "\n",
    "app = Tk()\n",
    "app.geometry(\"300x300\")\n",
    "\n",
    "canvas = tk.Canvas(app, bg='white')\n",
    "canvas.pack(anchor='nw', fill='both', expand=1)\n",
    "\n",
    "def get_x_and_y(event):\n",
    "    global lasx, lasy\n",
    "    lasx, lasy = event.x, event.y\n",
    "\n",
    "def draw_smth(event):\n",
    "    global lasx, lasy\n",
    "    canvas.create_line((lasx, lasy, event.x, event.y), fill='red', width=3.5)\n",
    "    lasx, lasy = event.x, event.y\n",
    "    ps = canvas.postscript(colormode = 'color')\n",
    "    img = Image.open(io.BytesIO(ps.encode('utf-8')))\n",
    "    img.save(temp_file_name)\n",
    "\n",
    "canvas.bind(\"<Button-1>\", get_x_and_y)\n",
    "canvas.bind(\"<B1-Motion>\", draw_smth)\n",
    "\n",
    "app.mainloop()\n",
    "\n",
    "img = Image.open(temp_file_name)\n",
    "#resize image to 28x28 pixels\n",
    "img = img.resize((28,28))\n",
    "#convert rgb to grayscale\n",
    "img = img.convert(\"L\")\n",
    "img = np.array(img)\n",
    "img = 255.0 - img\n",
    "print(\"Your input:\")\n",
    "plt.imshow(img, cmap = mpl.cm.binary); plt.axis(\"off\")\n",
    "plt.show()\n",
    "\n",
    "# reshaping to support our model input\n",
    "img = np.reshape(img, 28*28)\n",
    "#predicting the class\n",
    "print('Input recognized as ' + str(final_model.predict([img])[0])+'.')"
   ]
  },
  {
   "cell_type": "markdown",
   "metadata": {
    "id": "xpIXS-SWptYj"
   },
   "source": [
    "## Question 6 [0/0 marks]\n",
    "It often makes mistakes and its accuracy does not seem to be around 90%. Can you give reasons to explain why?"
   ]
  },
  {
   "cell_type": "markdown",
   "metadata": {
    "id": "2qNaLMRXptYj"
   },
   "source": [
    "**Your answer**: This was explained in class."
   ]
  },
  {
   "cell_type": "markdown",
   "metadata": {
    "id": "gUqm0Xd-ptYj"
   },
   "source": [
    "### Follow These Instructions\n",
    "\n",
    "Once you are finished, ensure to complete the following steps.\n",
    "\n",
    "1.  Restart your kernel by clicking 'Kernel' > 'Restart & Run All'.\n",
    "\n",
    "2.  Fix any errors which result from this.\n",
    "\n",
    "3.  Repeat steps 1. and 2. until your notebook runs without errors.\n",
    "\n",
    "4.  Submit your completed notebook to OWL by the deadline."
   ]
  }
 ],
 "metadata": {
  "colab": {
   "collapsed_sections": [],
   "provenance": []
  },
  "kernelspec": {
   "display_name": "Python 3 (ipykernel)",
   "language": "python",
   "name": "python3"
  },
  "language_info": {
   "codemirror_mode": {
    "name": "ipython",
    "version": 3
   },
   "file_extension": ".py",
   "mimetype": "text/x-python",
   "name": "python",
   "nbconvert_exporter": "python",
   "pygments_lexer": "ipython3",
   "version": "3.9.12"
  },
  "vscode": {
   "interpreter": {
    "hash": "3420a8792bbc8a921cecec9f5e200567f9d5b83365a03086ee32a665b051d9eb"
   }
  }
 },
 "nbformat": 4,
 "nbformat_minor": 1
}
